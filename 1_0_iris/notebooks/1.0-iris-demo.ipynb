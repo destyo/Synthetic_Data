{
 "cells": [
  {
   "cell_type": "markdown",
   "metadata": {},
   "source": [
    "# Métodos para la generación de datos sintéticos\n",
    "\n",
    "**Máster universitario en Ciencia de Datos (MUCD) - CUNEF**    \n",
    "\n",
    "**Autor: Antonio Tello Gómez** \n",
    "**Tutor: Diego J. Bodas Sagui**  \n",
    "**Fecha:  29/03/2022**\n",
    "\n",
    "\n",
    "![cunef](https://live.staticflickr.com/2588/4171571040_bab4a40acf_z.jpg)"
   ]
  },
  {
   "cell_type": "markdown",
   "metadata": {},
   "source": [
    "# 1. Demostración datos sintéticos con Iris  \n",
    "**(1.0-synth-data-demo.ipynb)**"
   ]
  },
  {
   "cell_type": "markdown",
   "metadata": {},
   "source": [
    "![iris](https://machinelearninghd.com/wp-content/uploads/2021/03/iris-dataset.png)"
   ]
  },
  {
   "cell_type": "code",
   "execution_count": 1,
   "metadata": {},
   "outputs": [
    {
     "name": "stdout",
     "output_type": "stream",
     "text": [
      "time: 2.03 s (started: 2022-06-05 10:45:08 +02:00)\n"
     ]
    }
   ],
   "source": [
    "#Librerias\n",
    "%load_ext autotime\n",
    "import pandas as pd\n",
    "import numpy as np\n",
    "import seaborn as sns \n",
    "import matplotlib.pyplot as plt\n",
    "\n",
    "#Synthetic Data\n",
    "#SDV\n",
    "from sdv.tabular import CTGAN, GaussianCopula, CopulaGAN, TVAE\n",
    "from sdv.evaluation import evaluate\n",
    "import sdv\n",
    "#Synthia\n",
    "import xarray as xr\n",
    "import synthia as syn\n",
    "#import pyvinecopulib as pv\n",
    "from table_evaluator import TableEvaluator\n",
    "\n",
    "\n",
    "\n",
    "#ML \n",
    "from sklearn.model_selection import train_test_split\n",
    "from sklearn.preprocessing import StandardScaler\n",
    "from sklearn.impute import SimpleImputer\n",
    "from sklearn.pipeline import Pipeline\n",
    "from sklearn.compose import ColumnTransformer\n",
    "from sklearn.tree import DecisionTreeClassifier, plot_tree\n",
    "from sklearn import metrics\n",
    "from sklearn.metrics import roc_auc_score, accuracy_score, classification_report, confusion_matrix, roc_curve\n",
    "from sklearn.metrics import ConfusionMatrixDisplay\n",
    "\n",
    "from lightgbm import LGBMClassifier, plot_importance\n",
    " \n",
    "import warnings\n",
    "warnings.filterwarnings('ignore')"
   ]
  },
  {
   "cell_type": "code",
   "execution_count": null,
   "metadata": {
    "collapsed": false,
    "pycharm": {
     "name": "#%%\n"
    }
   },
   "outputs": [],
   "source": [
    "# Lectura de datos\n",
    "#df = pd.read_csv(\"https://gist.githubusercontent.com/netj/8836201/raw/6f9306ad21398ea43cba4f7d537619d0e07d5ae3/iris.csv\")\n",
    "df = sns.load_dataset(\"iris\")"
   ]
  },
  {
   "cell_type": "code",
   "execution_count": null,
   "metadata": {},
   "outputs": [
    {
     "data": {
      "text/html": [
       "<div>\n",
       "<style scoped>\n",
       "    .dataframe tbody tr th:only-of-type {\n",
       "        vertical-align: middle;\n",
       "    }\n",
       "\n",
       "    .dataframe tbody tr th {\n",
       "        vertical-align: top;\n",
       "    }\n",
       "\n",
       "    .dataframe thead th {\n",
       "        text-align: right;\n",
       "    }\n",
       "</style>\n",
       "<table border=\"1\" class=\"dataframe\">\n",
       "  <thead>\n",
       "    <tr style=\"text-align: right;\">\n",
       "      <th></th>\n",
       "      <th>sepal.length</th>\n",
       "      <th>sepal.width</th>\n",
       "      <th>petal.length</th>\n",
       "      <th>petal.width</th>\n",
       "      <th>variety</th>\n",
       "    </tr>\n",
       "  </thead>\n",
       "  <tbody>\n",
       "    <tr>\n",
       "      <th>0</th>\n",
       "      <td>5.1</td>\n",
       "      <td>3.5</td>\n",
       "      <td>1.4</td>\n",
       "      <td>0.2</td>\n",
       "      <td>Setosa</td>\n",
       "    </tr>\n",
       "    <tr>\n",
       "      <th>1</th>\n",
       "      <td>4.9</td>\n",
       "      <td>3.0</td>\n",
       "      <td>1.4</td>\n",
       "      <td>0.2</td>\n",
       "      <td>Setosa</td>\n",
       "    </tr>\n",
       "    <tr>\n",
       "      <th>2</th>\n",
       "      <td>4.7</td>\n",
       "      <td>3.2</td>\n",
       "      <td>1.3</td>\n",
       "      <td>0.2</td>\n",
       "      <td>Setosa</td>\n",
       "    </tr>\n",
       "    <tr>\n",
       "      <th>3</th>\n",
       "      <td>4.6</td>\n",
       "      <td>3.1</td>\n",
       "      <td>1.5</td>\n",
       "      <td>0.2</td>\n",
       "      <td>Setosa</td>\n",
       "    </tr>\n",
       "    <tr>\n",
       "      <th>4</th>\n",
       "      <td>5.0</td>\n",
       "      <td>3.6</td>\n",
       "      <td>1.4</td>\n",
       "      <td>0.2</td>\n",
       "      <td>Setosa</td>\n",
       "    </tr>\n",
       "  </tbody>\n",
       "</table>\n",
       "</div>"
      ],
      "text/plain": [
       "   sepal.length  sepal.width  petal.length  petal.width variety\n",
       "0           5.1          3.5           1.4          0.2  Setosa\n",
       "1           4.9          3.0           1.4          0.2  Setosa\n",
       "2           4.7          3.2           1.3          0.2  Setosa\n",
       "3           4.6          3.1           1.5          0.2  Setosa\n",
       "4           5.0          3.6           1.4          0.2  Setosa"
      ]
     },
     "execution_count": 3,
     "metadata": {},
     "output_type": "execute_result"
    },
    {
     "name": "stdout",
     "output_type": "stream",
     "text": [
      "time: 15.1 ms (started: 2022-06-04 17:58:31 +02:00)\n"
     ]
    }
   ],
   "source": [
    "df.head()"
   ]
  },
  {
   "cell_type": "code",
   "execution_count": null,
   "metadata": {},
   "outputs": [
    {
     "name": "stdout",
     "output_type": "stream",
     "text": [
      "Train size: 120, Test size: 30\n",
      "time: 4.3 ms (started: 2022-06-04 17:58:31 +02:00)\n"
     ]
    }
   ],
   "source": [
    "train, test = train_test_split(df, test_size=0.2, random_state=0, stratify=df['variety'])\n",
    "print(f\"Train size: {len(train)},\", f\"Test size: {len(test)}\")"
   ]
  },
  {
   "cell_type": "markdown",
   "metadata": {},
   "source": [
    "## Metadatos Tabla"
   ]
  },
  {
   "cell_type": "markdown",
   "metadata": {},
   "source": [
    "Los metadatos de la tabla son una parte fundamental de la librería SDV. Ya que son estos metadatos los que contienen toda la inofrmación de la tabla necesaria para el generador. \n",
    "https://sdv.dev/SDV/developer_guides/sdv/metadata.html"
   ]
  },
  {
   "cell_type": "markdown",
   "metadata": {},
   "source": [
    "Una alternativa a crear un fichero Json de cero con todos los metadatos de la tabla es especificar los tipos de los campos y los transformers que queremos aplicar. Y posteriormente extraer el objeto metadatos del modelo. "
   ]
  },
  {
   "cell_type": "code",
   "execution_count": null,
   "metadata": {
    "collapsed": false,
    "pycharm": {
     "name": "#%%\n"
    }
   },
   "outputs": [
    {
     "name": "stdout",
     "output_type": "stream",
     "text": [
      "time: 913 µs (started: 2022-06-04 17:58:31 +02:00)\n"
     ]
    }
   ],
   "source": [
    "field_types=  {\n",
    "                \"sepal.length\": {\n",
    "                    \"type\" : \"numerical\",\n",
    "                    \"subtype\" : \"float\"\n",
    "                    },\n",
    "                \"sepal.width\":  {\n",
    "                    \"type\" : \"numerical\",\n",
    "                    \"subtype\" : \"float\"\n",
    "                    },\n",
    "                \"petal.length\": {\n",
    "                    \"type\":\"numerical\",\n",
    "                    \"subtype\":\"float\"\n",
    "                            },\n",
    "                \"petal_width\": {\n",
    "                    \"type\":\"numerical\",\n",
    "                    \"subtype\":\"float\"\n",
    "                            },\n",
    "                \"variety\": {\n",
    "                    \"type\": \"categorical\"\n",
    "                            }\n",
    "}"
   ]
  },
  {
   "cell_type": "markdown",
   "metadata": {
    "collapsed": false
   },
   "source": [
    "## Generadores"
   ]
  },
  {
   "cell_type": "markdown",
   "metadata": {
    "collapsed": false
   },
   "source": [
    "### Gaussian Copula\n",
    "https://github.com/sdv-dev/Copulas"
   ]
  },
  {
   "cell_type": "code",
   "execution_count": null,
   "metadata": {
    "collapsed": false,
    "pycharm": {
     "name": "#%%\n"
    }
   },
   "outputs": [
    {
     "name": "stdout",
     "output_type": "stream",
     "text": [
      "time: 524 µs (started: 2022-06-04 17:58:31 +02:00)\n"
     ]
    }
   ],
   "source": [
    "gaussian_copula = GaussianCopula(field_types=field_types)"
   ]
  },
  {
   "cell_type": "code",
   "execution_count": null,
   "metadata": {
    "collapsed": false,
    "pycharm": {
     "name": "#%%\n"
    }
   },
   "outputs": [
    {
     "name": "stdout",
     "output_type": "stream",
     "text": [
      "time: 1.12 s (started: 2022-06-04 17:58:31 +02:00)\n"
     ]
    }
   ],
   "source": [
    "gaussian_copula.fit(train)"
   ]
  },
  {
   "cell_type": "code",
   "execution_count": null,
   "metadata": {
    "collapsed": false,
    "pycharm": {
     "name": "#%%\n"
    }
   },
   "outputs": [
    {
     "name": "stdout",
     "output_type": "stream",
     "text": [
      "time: 13.7 ms (started: 2022-06-04 17:58:33 +02:00)\n"
     ]
    }
   ],
   "source": [
    "np.random.seed(2022)\n",
    "synthetic_data_gc = gaussian_copula.sample(len(df)*3)"
   ]
  },
  {
   "cell_type": "code",
   "execution_count": null,
   "metadata": {
    "collapsed": false,
    "pycharm": {
     "name": "#%%\n"
    }
   },
   "outputs": [
    {
     "data": {
      "text/html": [
       "<div>\n",
       "<style scoped>\n",
       "    .dataframe tbody tr th:only-of-type {\n",
       "        vertical-align: middle;\n",
       "    }\n",
       "\n",
       "    .dataframe tbody tr th {\n",
       "        vertical-align: top;\n",
       "    }\n",
       "\n",
       "    .dataframe thead th {\n",
       "        text-align: right;\n",
       "    }\n",
       "</style>\n",
       "<table border=\"1\" class=\"dataframe\">\n",
       "  <thead>\n",
       "    <tr style=\"text-align: right;\">\n",
       "      <th></th>\n",
       "      <th>sepal.length</th>\n",
       "      <th>sepal.width</th>\n",
       "      <th>petal.length</th>\n",
       "      <th>petal.width</th>\n",
       "      <th>variety</th>\n",
       "    </tr>\n",
       "  </thead>\n",
       "  <tbody>\n",
       "    <tr>\n",
       "      <th>0</th>\n",
       "      <td>6.9</td>\n",
       "      <td>3.5</td>\n",
       "      <td>4.2</td>\n",
       "      <td>2.0</td>\n",
       "      <td>Setosa</td>\n",
       "    </tr>\n",
       "    <tr>\n",
       "      <th>1</th>\n",
       "      <td>4.4</td>\n",
       "      <td>2.4</td>\n",
       "      <td>1.2</td>\n",
       "      <td>0.3</td>\n",
       "      <td>Setosa</td>\n",
       "    </tr>\n",
       "    <tr>\n",
       "      <th>2</th>\n",
       "      <td>5.9</td>\n",
       "      <td>2.9</td>\n",
       "      <td>5.7</td>\n",
       "      <td>2.0</td>\n",
       "      <td>Virginica</td>\n",
       "    </tr>\n",
       "    <tr>\n",
       "      <th>3</th>\n",
       "      <td>5.9</td>\n",
       "      <td>3.0</td>\n",
       "      <td>4.9</td>\n",
       "      <td>1.8</td>\n",
       "      <td>Versicolor</td>\n",
       "    </tr>\n",
       "    <tr>\n",
       "      <th>4</th>\n",
       "      <td>5.7</td>\n",
       "      <td>3.3</td>\n",
       "      <td>2.8</td>\n",
       "      <td>0.4</td>\n",
       "      <td>Setosa</td>\n",
       "    </tr>\n",
       "    <tr>\n",
       "      <th>5</th>\n",
       "      <td>5.5</td>\n",
       "      <td>3.1</td>\n",
       "      <td>3.5</td>\n",
       "      <td>1.3</td>\n",
       "      <td>Versicolor</td>\n",
       "    </tr>\n",
       "  </tbody>\n",
       "</table>\n",
       "</div>"
      ],
      "text/plain": [
       "   sepal.length  sepal.width  petal.length  petal.width     variety\n",
       "0           6.9          3.5           4.2          2.0      Setosa\n",
       "1           4.4          2.4           1.2          0.3      Setosa\n",
       "2           5.9          2.9           5.7          2.0   Virginica\n",
       "3           5.9          3.0           4.9          1.8  Versicolor\n",
       "4           5.7          3.3           2.8          0.4      Setosa\n",
       "5           5.5          3.1           3.5          1.3  Versicolor"
      ]
     },
     "execution_count": 9,
     "metadata": {},
     "output_type": "execute_result"
    },
    {
     "name": "stdout",
     "output_type": "stream",
     "text": [
      "time: 19.5 ms (started: 2022-06-04 17:58:33 +02:00)\n"
     ]
    }
   ],
   "source": [
    "# Ejemplo\n",
    "gaussian_copula.sample(6)"
   ]
  },
  {
   "cell_type": "code",
   "execution_count": null,
   "metadata": {
    "collapsed": false,
    "pycharm": {
     "name": "#%%\n"
    }
   },
   "outputs": [
    {
     "data": {
      "text/plain": [
       "{'sepal.length.value': 'copulas.univariate.truncated_gaussian.TruncatedGaussian',\n",
       " 'sepal.width.value': 'copulas.univariate.gamma.GammaUnivariate',\n",
       " 'petal.length.value': 'copulas.univariate.truncated_gaussian.TruncatedGaussian',\n",
       " 'petal.width.value': 'copulas.univariate.beta.BetaUnivariate',\n",
       " 'variety.value': 'copulas.univariate.uniform.UniformUnivariate'}"
      ]
     },
     "execution_count": 10,
     "metadata": {},
     "output_type": "execute_result"
    },
    {
     "name": "stdout",
     "output_type": "stream",
     "text": [
      "time: 2.91 ms (started: 2022-06-04 17:58:33 +02:00)\n"
     ]
    }
   ],
   "source": [
    "# Distribución marginal de cada columna \n",
    "gaussian_copula.get_distributions()"
   ]
  },
  {
   "cell_type": "markdown",
   "metadata": {},
   "source": [
    "#### Metadata"
   ]
  },
  {
   "cell_type": "markdown",
   "metadata": {},
   "source": [
    "A partir del modelo ajustado podemos extraer un objeto de metadatos completo al cual podemos añadir información interesante como campos sensibles o la variable target"
   ]
  },
  {
   "cell_type": "code",
   "execution_count": null,
   "metadata": {
    "collapsed": false,
    "pycharm": {
     "name": "#%%\n"
    }
   },
   "outputs": [
    {
     "name": "stdout",
     "output_type": "stream",
     "text": [
      "time: 1.34 ms (started: 2022-06-04 17:58:33 +02:00)\n"
     ]
    }
   ],
   "source": [
    "table_metadata = gaussian_copula.get_metadata().to_dict()\n",
    "table_metadata['target'] = 'variety'\n",
    "table_metadata['name'] = 'iris'\n",
    "table_metadata['key_fields'] = ['sepal.length', 'sepal.width', 'petal.length', 'petal.width']\n",
    "table_metadata['sensitive_fields'] = ['variety']\n",
    "#metadata = sdv.metadata.Table.from_dict(metadata)\n",
    "metadata = {'tables': \n",
    "    {'iris': table_metadata}}\n",
    "metadata = sdv.metadata.dataset.Metadata(metadata)"
   ]
  },
  {
   "cell_type": "code",
   "execution_count": null,
   "metadata": {},
   "outputs": [
    {
     "data": {
      "text/plain": [
       "{'sepal.length': {'type': 'numerical',\n",
       "  'subtype': 'float',\n",
       "  'transformer': 'float'},\n",
       " 'sepal.width': {'type': 'numerical',\n",
       "  'subtype': 'float',\n",
       "  'transformer': 'float'},\n",
       " 'petal.length': {'type': 'numerical',\n",
       "  'subtype': 'float',\n",
       "  'transformer': 'float'},\n",
       " 'petal.width': {'type': 'numerical',\n",
       "  'subtype': 'float',\n",
       "  'transformer': 'float'},\n",
       " 'variety': {'type': 'categorical', 'transformer': 'categorical_fuzzy'}}"
      ]
     },
     "execution_count": 12,
     "metadata": {},
     "output_type": "execute_result"
    },
    {
     "name": "stdout",
     "output_type": "stream",
     "text": [
      "time: 3.4 ms (started: 2022-06-04 17:58:33 +02:00)\n"
     ]
    }
   ],
   "source": [
    "metadata.get_fields('iris')"
   ]
  },
  {
   "cell_type": "markdown",
   "metadata": {
    "collapsed": false
   },
   "source": [
    "### CTGAN\n",
    "https://github.com/sdv-dev/CTGAN"
   ]
  },
  {
   "cell_type": "code",
   "execution_count": null,
   "metadata": {},
   "outputs": [
    {
     "name": "stdout",
     "output_type": "stream",
     "text": [
      "time: 824 µs (started: 2022-06-04 17:58:33 +02:00)\n"
     ]
    }
   ],
   "source": [
    "ctgan = CTGAN(verbose=False, table_metadata=table_metadata)"
   ]
  },
  {
   "cell_type": "code",
   "execution_count": null,
   "metadata": {
    "pycharm": {
     "is_executing": true,
     "name": "#%%\n"
    }
   },
   "outputs": [
    {
     "name": "stdout",
     "output_type": "stream",
     "text": [
      "time: 7.76 s (started: 2022-06-04 17:58:33 +02:00)\n"
     ]
    }
   ],
   "source": [
    "ctgan.fit(train)"
   ]
  },
  {
   "cell_type": "code",
   "execution_count": null,
   "metadata": {
    "pycharm": {
     "name": "#%%\n"
    }
   },
   "outputs": [
    {
     "data": {
      "text/plain": [
       "Table(name=iris, field_names=['sepal.length', 'sepal.width', 'petal.length', 'petal.width', 'variety'])"
      ]
     },
     "execution_count": 15,
     "metadata": {},
     "output_type": "execute_result"
    },
    {
     "name": "stdout",
     "output_type": "stream",
     "text": [
      "time: 1.97 ms (started: 2022-06-04 17:58:41 +02:00)\n"
     ]
    }
   ],
   "source": [
    "ctgan.get_metadata()"
   ]
  },
  {
   "cell_type": "code",
   "execution_count": null,
   "metadata": {
    "pycharm": {
     "is_executing": true,
     "name": "#%%\n"
    }
   },
   "outputs": [
    {
     "data": {
      "text/html": [
       "<div>\n",
       "<style scoped>\n",
       "    .dataframe tbody tr th:only-of-type {\n",
       "        vertical-align: middle;\n",
       "    }\n",
       "\n",
       "    .dataframe tbody tr th {\n",
       "        vertical-align: top;\n",
       "    }\n",
       "\n",
       "    .dataframe thead th {\n",
       "        text-align: right;\n",
       "    }\n",
       "</style>\n",
       "<table border=\"1\" class=\"dataframe\">\n",
       "  <thead>\n",
       "    <tr style=\"text-align: right;\">\n",
       "      <th></th>\n",
       "      <th>sepal.length</th>\n",
       "      <th>sepal.width</th>\n",
       "      <th>petal.length</th>\n",
       "      <th>petal.width</th>\n",
       "      <th>variety</th>\n",
       "    </tr>\n",
       "  </thead>\n",
       "  <tbody>\n",
       "    <tr>\n",
       "      <th>0</th>\n",
       "      <td>5.6</td>\n",
       "      <td>4.4</td>\n",
       "      <td>1.2</td>\n",
       "      <td>1.6</td>\n",
       "      <td>Versicolor</td>\n",
       "    </tr>\n",
       "    <tr>\n",
       "      <th>1</th>\n",
       "      <td>7.7</td>\n",
       "      <td>4.3</td>\n",
       "      <td>6.9</td>\n",
       "      <td>2.0</td>\n",
       "      <td>Setosa</td>\n",
       "    </tr>\n",
       "    <tr>\n",
       "      <th>2</th>\n",
       "      <td>6.2</td>\n",
       "      <td>3.2</td>\n",
       "      <td>6.9</td>\n",
       "      <td>1.6</td>\n",
       "      <td>Setosa</td>\n",
       "    </tr>\n",
       "    <tr>\n",
       "      <th>3</th>\n",
       "      <td>7.9</td>\n",
       "      <td>3.4</td>\n",
       "      <td>5.4</td>\n",
       "      <td>0.7</td>\n",
       "      <td>Setosa</td>\n",
       "    </tr>\n",
       "    <tr>\n",
       "      <th>4</th>\n",
       "      <td>7.9</td>\n",
       "      <td>2.6</td>\n",
       "      <td>2.0</td>\n",
       "      <td>0.6</td>\n",
       "      <td>Virginica</td>\n",
       "    </tr>\n",
       "    <tr>\n",
       "      <th>5</th>\n",
       "      <td>6.6</td>\n",
       "      <td>3.2</td>\n",
       "      <td>6.0</td>\n",
       "      <td>1.3</td>\n",
       "      <td>Setosa</td>\n",
       "    </tr>\n",
       "  </tbody>\n",
       "</table>\n",
       "</div>"
      ],
      "text/plain": [
       "   sepal.length  sepal.width  petal.length  petal.width     variety\n",
       "0           5.6          4.4           1.2          1.6  Versicolor\n",
       "1           7.7          4.3           6.9          2.0      Setosa\n",
       "2           6.2          3.2           6.9          1.6      Setosa\n",
       "3           7.9          3.4           5.4          0.7      Setosa\n",
       "4           7.9          2.6           2.0          0.6   Virginica\n",
       "5           6.6          3.2           6.0          1.3      Setosa"
      ]
     },
     "execution_count": 16,
     "metadata": {},
     "output_type": "execute_result"
    },
    {
     "name": "stdout",
     "output_type": "stream",
     "text": [
      "time: 31.5 ms (started: 2022-06-04 17:58:41 +02:00)\n"
     ]
    }
   ],
   "source": [
    "#Ejemplo \n",
    "ctgan.sample(6)"
   ]
  },
  {
   "cell_type": "code",
   "execution_count": null,
   "metadata": {},
   "outputs": [
    {
     "name": "stdout",
     "output_type": "stream",
     "text": [
      "time: 24.9 ms (started: 2022-06-04 17:58:42 +02:00)\n"
     ]
    }
   ],
   "source": [
    "np.random.seed(2022)\n",
    "synthetic_data_ctgan = ctgan.sample(len(df)*3)"
   ]
  },
  {
   "cell_type": "markdown",
   "metadata": {
    "collapsed": false
   },
   "source": [
    "### CopulaGAN"
   ]
  },
  {
   "cell_type": "code",
   "execution_count": null,
   "metadata": {},
   "outputs": [
    {
     "name": "stdout",
     "output_type": "stream",
     "text": [
      "time: 859 µs (started: 2022-06-04 17:58:42 +02:00)\n"
     ]
    }
   ],
   "source": [
    "copgan = CopulaGAN(verbose=False,table_metadata=table_metadata)"
   ]
  },
  {
   "cell_type": "code",
   "execution_count": null,
   "metadata": {},
   "outputs": [
    {
     "name": "stdout",
     "output_type": "stream",
     "text": [
      "time: 5.64 s (started: 2022-06-04 17:58:42 +02:00)\n"
     ]
    }
   ],
   "source": [
    "copgan.fit(train)"
   ]
  },
  {
   "cell_type": "code",
   "execution_count": null,
   "metadata": {},
   "outputs": [
    {
     "data": {
      "text/html": [
       "<div>\n",
       "<style scoped>\n",
       "    .dataframe tbody tr th:only-of-type {\n",
       "        vertical-align: middle;\n",
       "    }\n",
       "\n",
       "    .dataframe tbody tr th {\n",
       "        vertical-align: top;\n",
       "    }\n",
       "\n",
       "    .dataframe thead th {\n",
       "        text-align: right;\n",
       "    }\n",
       "</style>\n",
       "<table border=\"1\" class=\"dataframe\">\n",
       "  <thead>\n",
       "    <tr style=\"text-align: right;\">\n",
       "      <th></th>\n",
       "      <th>sepal.length</th>\n",
       "      <th>sepal.width</th>\n",
       "      <th>petal.length</th>\n",
       "      <th>petal.width</th>\n",
       "      <th>variety</th>\n",
       "    </tr>\n",
       "  </thead>\n",
       "  <tbody>\n",
       "    <tr>\n",
       "      <th>0</th>\n",
       "      <td>4.3</td>\n",
       "      <td>4.0</td>\n",
       "      <td>1.3</td>\n",
       "      <td>2.0</td>\n",
       "      <td>Virginica</td>\n",
       "    </tr>\n",
       "    <tr>\n",
       "      <th>1</th>\n",
       "      <td>5.8</td>\n",
       "      <td>4.1</td>\n",
       "      <td>5.4</td>\n",
       "      <td>2.5</td>\n",
       "      <td>Setosa</td>\n",
       "    </tr>\n",
       "    <tr>\n",
       "      <th>2</th>\n",
       "      <td>6.5</td>\n",
       "      <td>4.2</td>\n",
       "      <td>2.0</td>\n",
       "      <td>0.1</td>\n",
       "      <td>Virginica</td>\n",
       "    </tr>\n",
       "    <tr>\n",
       "      <th>3</th>\n",
       "      <td>6.3</td>\n",
       "      <td>4.4</td>\n",
       "      <td>4.7</td>\n",
       "      <td>0.4</td>\n",
       "      <td>Versicolor</td>\n",
       "    </tr>\n",
       "    <tr>\n",
       "      <th>4</th>\n",
       "      <td>4.7</td>\n",
       "      <td>4.1</td>\n",
       "      <td>1.2</td>\n",
       "      <td>1.8</td>\n",
       "      <td>Versicolor</td>\n",
       "    </tr>\n",
       "    <tr>\n",
       "      <th>5</th>\n",
       "      <td>4.6</td>\n",
       "      <td>3.7</td>\n",
       "      <td>1.3</td>\n",
       "      <td>2.1</td>\n",
       "      <td>Setosa</td>\n",
       "    </tr>\n",
       "  </tbody>\n",
       "</table>\n",
       "</div>"
      ],
      "text/plain": [
       "   sepal.length  sepal.width  petal.length  petal.width     variety\n",
       "0           4.3          4.0           1.3          2.0   Virginica\n",
       "1           5.8          4.1           5.4          2.5      Setosa\n",
       "2           6.5          4.2           2.0          0.1   Virginica\n",
       "3           6.3          4.4           4.7          0.4  Versicolor\n",
       "4           4.7          4.1           1.2          1.8  Versicolor\n",
       "5           4.6          3.7           1.3          2.1      Setosa"
      ]
     },
     "execution_count": 20,
     "metadata": {},
     "output_type": "execute_result"
    },
    {
     "name": "stdout",
     "output_type": "stream",
     "text": [
      "time: 31.7 ms (started: 2022-06-04 17:58:48 +02:00)\n"
     ]
    }
   ],
   "source": [
    "copgan.sample(6)"
   ]
  },
  {
   "cell_type": "code",
   "execution_count": null,
   "metadata": {},
   "outputs": [
    {
     "name": "stdout",
     "output_type": "stream",
     "text": [
      "time: 27.9 ms (started: 2022-06-04 17:58:48 +02:00)\n"
     ]
    }
   ],
   "source": [
    "np.random.seed(2022)\n",
    "synthetic_data_copgan = copgan.sample(len(df)*3)"
   ]
  },
  {
   "cell_type": "code",
   "execution_count": null,
   "metadata": {},
   "outputs": [
    {
     "data": {
      "text/plain": [
       "{'sepal.length.value': 'copulas.univariate.truncated_gaussian.TruncatedGaussian',\n",
       " 'sepal.width.value': 'copulas.univariate.gamma.GammaUnivariate',\n",
       " 'petal.length.value': 'copulas.univariate.truncated_gaussian.TruncatedGaussian',\n",
       " 'petal.width.value': 'copulas.univariate.beta.BetaUnivariate',\n",
       " 'variety.value': 'copulas.univariate.uniform.UniformUnivariate'}"
      ]
     },
     "execution_count": 22,
     "metadata": {},
     "output_type": "execute_result"
    },
    {
     "name": "stdout",
     "output_type": "stream",
     "text": [
      "time: 2.8 ms (started: 2022-06-04 17:58:48 +02:00)\n"
     ]
    }
   ],
   "source": [
    "# Distribución marginal de cada columna \n",
    "gaussian_copula.get_distributions()"
   ]
  },
  {
   "cell_type": "markdown",
   "metadata": {
    "collapsed": false
   },
   "source": [
    "### TVAE"
   ]
  },
  {
   "cell_type": "code",
   "execution_count": null,
   "metadata": {
    "collapsed": false,
    "pycharm": {
     "name": "#%%\n"
    }
   },
   "outputs": [
    {
     "name": "stdout",
     "output_type": "stream",
     "text": [
      "time: 517 µs (started: 2022-06-04 17:58:48 +02:00)\n"
     ]
    }
   ],
   "source": [
    "tvae = TVAE(table_metadata=table_metadata)"
   ]
  },
  {
   "cell_type": "code",
   "execution_count": null,
   "metadata": {},
   "outputs": [
    {
     "name": "stdout",
     "output_type": "stream",
     "text": [
      "time: 3.32 s (started: 2022-06-04 17:58:48 +02:00)\n"
     ]
    }
   ],
   "source": [
    "tvae.fit(train)"
   ]
  },
  {
   "cell_type": "code",
   "execution_count": null,
   "metadata": {},
   "outputs": [
    {
     "data": {
      "text/html": [
       "<div>\n",
       "<style scoped>\n",
       "    .dataframe tbody tr th:only-of-type {\n",
       "        vertical-align: middle;\n",
       "    }\n",
       "\n",
       "    .dataframe tbody tr th {\n",
       "        vertical-align: top;\n",
       "    }\n",
       "\n",
       "    .dataframe thead th {\n",
       "        text-align: right;\n",
       "    }\n",
       "</style>\n",
       "<table border=\"1\" class=\"dataframe\">\n",
       "  <thead>\n",
       "    <tr style=\"text-align: right;\">\n",
       "      <th></th>\n",
       "      <th>sepal.length</th>\n",
       "      <th>sepal.width</th>\n",
       "      <th>petal.length</th>\n",
       "      <th>petal.width</th>\n",
       "      <th>variety</th>\n",
       "    </tr>\n",
       "  </thead>\n",
       "  <tbody>\n",
       "    <tr>\n",
       "      <th>0</th>\n",
       "      <td>5.6</td>\n",
       "      <td>3.1</td>\n",
       "      <td>5.1</td>\n",
       "      <td>1.8</td>\n",
       "      <td>Virginica</td>\n",
       "    </tr>\n",
       "    <tr>\n",
       "      <th>1</th>\n",
       "      <td>6.1</td>\n",
       "      <td>3.1</td>\n",
       "      <td>5.0</td>\n",
       "      <td>1.8</td>\n",
       "      <td>Versicolor</td>\n",
       "    </tr>\n",
       "    <tr>\n",
       "      <th>2</th>\n",
       "      <td>6.1</td>\n",
       "      <td>3.4</td>\n",
       "      <td>4.7</td>\n",
       "      <td>1.8</td>\n",
       "      <td>Versicolor</td>\n",
       "    </tr>\n",
       "    <tr>\n",
       "      <th>3</th>\n",
       "      <td>5.8</td>\n",
       "      <td>2.3</td>\n",
       "      <td>4.0</td>\n",
       "      <td>1.5</td>\n",
       "      <td>Versicolor</td>\n",
       "    </tr>\n",
       "    <tr>\n",
       "      <th>4</th>\n",
       "      <td>6.5</td>\n",
       "      <td>3.0</td>\n",
       "      <td>4.8</td>\n",
       "      <td>1.9</td>\n",
       "      <td>Versicolor</td>\n",
       "    </tr>\n",
       "    <tr>\n",
       "      <th>5</th>\n",
       "      <td>6.1</td>\n",
       "      <td>3.0</td>\n",
       "      <td>4.8</td>\n",
       "      <td>1.5</td>\n",
       "      <td>Virginica</td>\n",
       "    </tr>\n",
       "  </tbody>\n",
       "</table>\n",
       "</div>"
      ],
      "text/plain": [
       "   sepal.length  sepal.width  petal.length  petal.width     variety\n",
       "0           5.6          3.1           5.1          1.8   Virginica\n",
       "1           6.1          3.1           5.0          1.8  Versicolor\n",
       "2           6.1          3.4           4.7          1.8  Versicolor\n",
       "3           5.8          2.3           4.0          1.5  Versicolor\n",
       "4           6.5          3.0           4.8          1.9  Versicolor\n",
       "5           6.1          3.0           4.8          1.5   Virginica"
      ]
     },
     "execution_count": 25,
     "metadata": {},
     "output_type": "execute_result"
    },
    {
     "name": "stdout",
     "output_type": "stream",
     "text": [
      "time: 53.8 ms (started: 2022-06-04 17:58:52 +02:00)\n"
     ]
    }
   ],
   "source": [
    "tvae.sample(6)"
   ]
  },
  {
   "cell_type": "code",
   "execution_count": null,
   "metadata": {},
   "outputs": [
    {
     "name": "stdout",
     "output_type": "stream",
     "text": [
      "time: 39.5 ms (started: 2022-06-04 17:58:52 +02:00)\n"
     ]
    }
   ],
   "source": [
    "np.random.seed(2022)\n",
    "synthetic_data_tvae = tvae.sample(len(df)*3)"
   ]
  },
  {
   "cell_type": "markdown",
   "metadata": {},
   "source": [
    "### fPCA\n",
    "https://github.com/dmey/synthia"
   ]
  },
  {
   "cell_type": "markdown",
   "metadata": {},
   "source": [
    "#### Reversible Data Transform (RDT)\n",
    "https://github.com/sdv-dev/RDT"
   ]
  },
  {
   "cell_type": "code",
   "execution_count": null,
   "metadata": {},
   "outputs": [
    {
     "name": "stdout",
     "output_type": "stream",
     "text": [
      "time: 417 µs (started: 2022-06-04 17:58:52 +02:00)\n"
     ]
    }
   ],
   "source": [
    "from rdt import HyperTransformer\n",
    "ht = HyperTransformer(field_types)"
   ]
  },
  {
   "cell_type": "code",
   "execution_count": null,
   "metadata": {},
   "outputs": [
    {
     "name": "stdout",
     "output_type": "stream",
     "text": [
      "time: 10.1 ms (started: 2022-06-04 17:58:52 +02:00)\n"
     ]
    }
   ],
   "source": [
    "ht.fit(df)"
   ]
  },
  {
   "cell_type": "code",
   "execution_count": null,
   "metadata": {},
   "outputs": [
    {
     "data": {
      "text/html": [
       "<div>\n",
       "<style scoped>\n",
       "    .dataframe tbody tr th:only-of-type {\n",
       "        vertical-align: middle;\n",
       "    }\n",
       "\n",
       "    .dataframe tbody tr th {\n",
       "        vertical-align: top;\n",
       "    }\n",
       "\n",
       "    .dataframe thead th {\n",
       "        text-align: right;\n",
       "    }\n",
       "</style>\n",
       "<table border=\"1\" class=\"dataframe\">\n",
       "  <thead>\n",
       "    <tr style=\"text-align: right;\">\n",
       "      <th></th>\n",
       "      <th>sepal.length.value</th>\n",
       "      <th>sepal.width.value</th>\n",
       "      <th>petal.length.value</th>\n",
       "      <th>petal.width.value</th>\n",
       "      <th>variety.value</th>\n",
       "    </tr>\n",
       "  </thead>\n",
       "  <tbody>\n",
       "    <tr>\n",
       "      <th>0</th>\n",
       "      <td>5.1</td>\n",
       "      <td>3.5</td>\n",
       "      <td>1.4</td>\n",
       "      <td>0.2</td>\n",
       "      <td>0.186152</td>\n",
       "    </tr>\n",
       "    <tr>\n",
       "      <th>1</th>\n",
       "      <td>4.9</td>\n",
       "      <td>3.0</td>\n",
       "      <td>1.4</td>\n",
       "      <td>0.2</td>\n",
       "      <td>0.145225</td>\n",
       "    </tr>\n",
       "    <tr>\n",
       "      <th>2</th>\n",
       "      <td>4.7</td>\n",
       "      <td>3.2</td>\n",
       "      <td>1.3</td>\n",
       "      <td>0.2</td>\n",
       "      <td>0.214170</td>\n",
       "    </tr>\n",
       "    <tr>\n",
       "      <th>3</th>\n",
       "      <td>4.6</td>\n",
       "      <td>3.1</td>\n",
       "      <td>1.5</td>\n",
       "      <td>0.2</td>\n",
       "      <td>0.184541</td>\n",
       "    </tr>\n",
       "    <tr>\n",
       "      <th>4</th>\n",
       "      <td>5.0</td>\n",
       "      <td>3.6</td>\n",
       "      <td>1.4</td>\n",
       "      <td>0.2</td>\n",
       "      <td>0.145522</td>\n",
       "    </tr>\n",
       "    <tr>\n",
       "      <th>...</th>\n",
       "      <td>...</td>\n",
       "      <td>...</td>\n",
       "      <td>...</td>\n",
       "      <td>...</td>\n",
       "      <td>...</td>\n",
       "    </tr>\n",
       "    <tr>\n",
       "      <th>145</th>\n",
       "      <td>6.7</td>\n",
       "      <td>3.0</td>\n",
       "      <td>5.2</td>\n",
       "      <td>2.3</td>\n",
       "      <td>0.929534</td>\n",
       "    </tr>\n",
       "    <tr>\n",
       "      <th>146</th>\n",
       "      <td>6.3</td>\n",
       "      <td>2.5</td>\n",
       "      <td>5.0</td>\n",
       "      <td>1.9</td>\n",
       "      <td>0.898729</td>\n",
       "    </tr>\n",
       "    <tr>\n",
       "      <th>147</th>\n",
       "      <td>6.5</td>\n",
       "      <td>3.0</td>\n",
       "      <td>5.2</td>\n",
       "      <td>2.0</td>\n",
       "      <td>0.868394</td>\n",
       "    </tr>\n",
       "    <tr>\n",
       "      <th>148</th>\n",
       "      <td>6.2</td>\n",
       "      <td>3.4</td>\n",
       "      <td>5.4</td>\n",
       "      <td>2.3</td>\n",
       "      <td>0.843415</td>\n",
       "    </tr>\n",
       "    <tr>\n",
       "      <th>149</th>\n",
       "      <td>5.9</td>\n",
       "      <td>3.0</td>\n",
       "      <td>5.1</td>\n",
       "      <td>1.8</td>\n",
       "      <td>0.809697</td>\n",
       "    </tr>\n",
       "  </tbody>\n",
       "</table>\n",
       "<p>150 rows × 5 columns</p>\n",
       "</div>"
      ],
      "text/plain": [
       "     sepal.length.value  sepal.width.value  petal.length.value  \\\n",
       "0                   5.1                3.5                 1.4   \n",
       "1                   4.9                3.0                 1.4   \n",
       "2                   4.7                3.2                 1.3   \n",
       "3                   4.6                3.1                 1.5   \n",
       "4                   5.0                3.6                 1.4   \n",
       "..                  ...                ...                 ...   \n",
       "145                 6.7                3.0                 5.2   \n",
       "146                 6.3                2.5                 5.0   \n",
       "147                 6.5                3.0                 5.2   \n",
       "148                 6.2                3.4                 5.4   \n",
       "149                 5.9                3.0                 5.1   \n",
       "\n",
       "     petal.width.value  variety.value  \n",
       "0                  0.2       0.186152  \n",
       "1                  0.2       0.145225  \n",
       "2                  0.2       0.214170  \n",
       "3                  0.2       0.184541  \n",
       "4                  0.2       0.145522  \n",
       "..                 ...            ...  \n",
       "145                2.3       0.929534  \n",
       "146                1.9       0.898729  \n",
       "147                2.0       0.868394  \n",
       "148                2.3       0.843415  \n",
       "149                1.8       0.809697  \n",
       "\n",
       "[150 rows x 5 columns]"
      ]
     },
     "execution_count": 29,
     "metadata": {},
     "output_type": "execute_result"
    },
    {
     "name": "stdout",
     "output_type": "stream",
     "text": [
      "time: 15.4 ms (started: 2022-06-04 17:58:52 +02:00)\n"
     ]
    }
   ],
   "source": [
    "transformed = ht.transform(df,)\n",
    "transformed"
   ]
  },
  {
   "cell_type": "code",
   "execution_count": null,
   "metadata": {},
   "outputs": [
    {
     "name": "stdout",
     "output_type": "stream",
     "text": [
      "time: 5.04 ms (started: 2022-06-04 17:58:52 +02:00)\n"
     ]
    }
   ],
   "source": [
    "fpca = syn.FPCADataGenerator()\n",
    "fpca.fit(transformed, n_fpca_components=3)"
   ]
  },
  {
   "cell_type": "code",
   "execution_count": null,
   "metadata": {},
   "outputs": [
    {
     "data": {
      "text/html": [
       "<div>\n",
       "<style scoped>\n",
       "    .dataframe tbody tr th:only-of-type {\n",
       "        vertical-align: middle;\n",
       "    }\n",
       "\n",
       "    .dataframe tbody tr th {\n",
       "        vertical-align: top;\n",
       "    }\n",
       "\n",
       "    .dataframe thead th {\n",
       "        text-align: right;\n",
       "    }\n",
       "</style>\n",
       "<table border=\"1\" class=\"dataframe\">\n",
       "  <thead>\n",
       "    <tr style=\"text-align: right;\">\n",
       "      <th></th>\n",
       "      <th>sepal.length</th>\n",
       "      <th>sepal.width</th>\n",
       "      <th>petal.length</th>\n",
       "      <th>petal.width</th>\n",
       "      <th>variety</th>\n",
       "    </tr>\n",
       "  </thead>\n",
       "  <tbody>\n",
       "    <tr>\n",
       "      <th>445</th>\n",
       "      <td>6.593451</td>\n",
       "      <td>2.265156</td>\n",
       "      <td>6.812834</td>\n",
       "      <td>2.495833</td>\n",
       "      <td>Virginica</td>\n",
       "    </tr>\n",
       "    <tr>\n",
       "      <th>446</th>\n",
       "      <td>4.817827</td>\n",
       "      <td>3.939312</td>\n",
       "      <td>1.469252</td>\n",
       "      <td>0.550746</td>\n",
       "      <td>Setosa</td>\n",
       "    </tr>\n",
       "    <tr>\n",
       "      <th>447</th>\n",
       "      <td>5.044853</td>\n",
       "      <td>3.655239</td>\n",
       "      <td>1.489526</td>\n",
       "      <td>0.343998</td>\n",
       "      <td>Setosa</td>\n",
       "    </tr>\n",
       "    <tr>\n",
       "      <th>448</th>\n",
       "      <td>6.743126</td>\n",
       "      <td>3.004109</td>\n",
       "      <td>5.962245</td>\n",
       "      <td>2.205338</td>\n",
       "      <td>Virginica</td>\n",
       "    </tr>\n",
       "    <tr>\n",
       "      <th>449</th>\n",
       "      <td>6.216369</td>\n",
       "      <td>2.427489</td>\n",
       "      <td>4.456215</td>\n",
       "      <td>1.215668</td>\n",
       "      <td>Versicolor</td>\n",
       "    </tr>\n",
       "  </tbody>\n",
       "</table>\n",
       "</div>"
      ],
      "text/plain": [
       "     sepal.length  sepal.width  petal.length  petal.width     variety\n",
       "445      6.593451     2.265156      6.812834     2.495833   Virginica\n",
       "446      4.817827     3.939312      1.469252     0.550746      Setosa\n",
       "447      5.044853     3.655239      1.489526     0.343998      Setosa\n",
       "448      6.743126     3.004109      5.962245     2.205338   Virginica\n",
       "449      6.216369     2.427489      4.456215     1.215668  Versicolor"
      ]
     },
     "execution_count": 31,
     "metadata": {},
     "output_type": "execute_result"
    },
    {
     "name": "stdout",
     "output_type": "stream",
     "text": [
      "time: 25.5 ms (started: 2022-06-04 17:58:52 +02:00)\n"
     ]
    }
   ],
   "source": [
    "np.random.seed(2022)\n",
    "synthetic_data_fpca = fpca.generate(n_samples=len(df)*3)\n",
    "synthetic_data_fpca = pd.DataFrame(synthetic_data_fpca, columns=['sepal.length.value','sepal.width.value','petal.length.value','petal.width.value','variety.value'])\n",
    "synthetic_data_fpca = ht.reverse_transform(synthetic_data_fpca)\n",
    "synthetic_data_fpca.tail()"
   ]
  },
  {
   "cell_type": "markdown",
   "metadata": {},
   "source": [
    "### Gaussian Copula (Synthia) "
   ]
  },
  {
   "cell_type": "code",
   "execution_count": null,
   "metadata": {},
   "outputs": [
    {
     "name": "stdout",
     "output_type": "stream",
     "text": [
      "time: 5.59 ms (started: 2022-06-04 17:58:52 +02:00)\n"
     ]
    }
   ],
   "source": [
    "parameterizer = syn.QuantileParameterizer(n_quantiles=100)\n",
    "gcs = syn.CopulaDataGenerator()\n",
    "gcs.fit(transformed, copula=syn.GaussianCopula(), parameterize_by=parameterizer)"
   ]
  },
  {
   "cell_type": "code",
   "execution_count": null,
   "metadata": {},
   "outputs": [
    {
     "data": {
      "text/html": [
       "<div>\n",
       "<style scoped>\n",
       "    .dataframe tbody tr th:only-of-type {\n",
       "        vertical-align: middle;\n",
       "    }\n",
       "\n",
       "    .dataframe tbody tr th {\n",
       "        vertical-align: top;\n",
       "    }\n",
       "\n",
       "    .dataframe thead th {\n",
       "        text-align: right;\n",
       "    }\n",
       "</style>\n",
       "<table border=\"1\" class=\"dataframe\">\n",
       "  <thead>\n",
       "    <tr style=\"text-align: right;\">\n",
       "      <th></th>\n",
       "      <th>sepal.length</th>\n",
       "      <th>sepal.width</th>\n",
       "      <th>petal.length</th>\n",
       "      <th>petal.width</th>\n",
       "      <th>variety</th>\n",
       "    </tr>\n",
       "  </thead>\n",
       "  <tbody>\n",
       "    <tr>\n",
       "      <th>445</th>\n",
       "      <td>6.087749</td>\n",
       "      <td>3.400000</td>\n",
       "      <td>4.408432</td>\n",
       "      <td>1.400000</td>\n",
       "      <td>Virginica</td>\n",
       "    </tr>\n",
       "    <tr>\n",
       "      <th>446</th>\n",
       "      <td>5.719166</td>\n",
       "      <td>2.700000</td>\n",
       "      <td>4.218621</td>\n",
       "      <td>1.448207</td>\n",
       "      <td>Versicolor</td>\n",
       "    </tr>\n",
       "    <tr>\n",
       "      <th>447</th>\n",
       "      <td>5.197813</td>\n",
       "      <td>2.864845</td>\n",
       "      <td>4.903190</td>\n",
       "      <td>1.403452</td>\n",
       "      <td>Versicolor</td>\n",
       "    </tr>\n",
       "    <tr>\n",
       "      <th>448</th>\n",
       "      <td>5.400000</td>\n",
       "      <td>3.400000</td>\n",
       "      <td>3.904477</td>\n",
       "      <td>0.200000</td>\n",
       "      <td>Setosa</td>\n",
       "    </tr>\n",
       "    <tr>\n",
       "      <th>449</th>\n",
       "      <td>4.600000</td>\n",
       "      <td>2.337635</td>\n",
       "      <td>1.400000</td>\n",
       "      <td>0.100000</td>\n",
       "      <td>Setosa</td>\n",
       "    </tr>\n",
       "  </tbody>\n",
       "</table>\n",
       "</div>"
      ],
      "text/plain": [
       "     sepal.length  sepal.width  petal.length  petal.width     variety\n",
       "445      6.087749     3.400000      4.408432     1.400000   Virginica\n",
       "446      5.719166     2.700000      4.218621     1.448207  Versicolor\n",
       "447      5.197813     2.864845      4.903190     1.403452  Versicolor\n",
       "448      5.400000     3.400000      3.904477     0.200000      Setosa\n",
       "449      4.600000     2.337635      1.400000     0.100000      Setosa"
      ]
     },
     "execution_count": 33,
     "metadata": {},
     "output_type": "execute_result"
    },
    {
     "name": "stdout",
     "output_type": "stream",
     "text": [
      "time: 33.7 ms (started: 2022-06-04 17:58:53 +02:00)\n"
     ]
    }
   ],
   "source": [
    "np.random.seed(2022)\n",
    "synthetic_data_gcs = gcs.generate(n_samples=len(df)*3)\n",
    "synthetic_data_gcs = pd.DataFrame(synthetic_data_gcs, columns=['sepal.length.value','sepal.width.value','petal.length.value','petal.width.value','variety.value'])\n",
    "synthetic_data_gcs = ht.reverse_transform(synthetic_data_gcs)\n",
    "synthetic_data_gcs.tail()"
   ]
  },
  {
   "cell_type": "markdown",
   "metadata": {},
   "source": [
    "### VineCopula"
   ]
  },
  {
   "cell_type": "code",
   "execution_count": null,
   "metadata": {},
   "outputs": [
    {
     "name": "stdout",
     "output_type": "stream",
     "text": [
      "time: 2.11 s (started: 2022-06-04 17:58:53 +02:00)\n"
     ]
    }
   ],
   "source": [
    "parameterizer = syn.QuantileParameterizer(n_quantiles=100)\n",
    "vc = syn.CopulaDataGenerator()\n",
    "vc.fit(transformed, copula=syn.VineCopula(), parameterize_by=parameterizer)"
   ]
  },
  {
   "cell_type": "code",
   "execution_count": null,
   "metadata": {},
   "outputs": [
    {
     "data": {
      "text/html": [
       "<div>\n",
       "<style scoped>\n",
       "    .dataframe tbody tr th:only-of-type {\n",
       "        vertical-align: middle;\n",
       "    }\n",
       "\n",
       "    .dataframe tbody tr th {\n",
       "        vertical-align: top;\n",
       "    }\n",
       "\n",
       "    .dataframe thead th {\n",
       "        text-align: right;\n",
       "    }\n",
       "</style>\n",
       "<table border=\"1\" class=\"dataframe\">\n",
       "  <thead>\n",
       "    <tr style=\"text-align: right;\">\n",
       "      <th></th>\n",
       "      <th>sepal.length</th>\n",
       "      <th>sepal.width</th>\n",
       "      <th>petal.length</th>\n",
       "      <th>petal.width</th>\n",
       "      <th>variety</th>\n",
       "    </tr>\n",
       "  </thead>\n",
       "  <tbody>\n",
       "    <tr>\n",
       "      <th>445</th>\n",
       "      <td>6.401098</td>\n",
       "      <td>3.000000</td>\n",
       "      <td>5.382482</td>\n",
       "      <td>2.300000</td>\n",
       "      <td>Virginica</td>\n",
       "    </tr>\n",
       "    <tr>\n",
       "      <th>446</th>\n",
       "      <td>5.796714</td>\n",
       "      <td>2.300445</td>\n",
       "      <td>5.264843</td>\n",
       "      <td>2.000000</td>\n",
       "      <td>Virginica</td>\n",
       "    </tr>\n",
       "    <tr>\n",
       "      <th>447</th>\n",
       "      <td>6.492061</td>\n",
       "      <td>2.700000</td>\n",
       "      <td>5.513611</td>\n",
       "      <td>1.800000</td>\n",
       "      <td>Versicolor</td>\n",
       "    </tr>\n",
       "    <tr>\n",
       "      <th>448</th>\n",
       "      <td>4.587110</td>\n",
       "      <td>2.800000</td>\n",
       "      <td>1.405816</td>\n",
       "      <td>0.186422</td>\n",
       "      <td>Setosa</td>\n",
       "    </tr>\n",
       "    <tr>\n",
       "      <th>449</th>\n",
       "      <td>7.681961</td>\n",
       "      <td>2.300000</td>\n",
       "      <td>6.452789</td>\n",
       "      <td>2.302763</td>\n",
       "      <td>Virginica</td>\n",
       "    </tr>\n",
       "  </tbody>\n",
       "</table>\n",
       "</div>"
      ],
      "text/plain": [
       "     sepal.length  sepal.width  petal.length  petal.width     variety\n",
       "445      6.401098     3.000000      5.382482     2.300000   Virginica\n",
       "446      5.796714     2.300445      5.264843     2.000000   Virginica\n",
       "447      6.492061     2.700000      5.513611     1.800000  Versicolor\n",
       "448      4.587110     2.800000      1.405816     0.186422      Setosa\n",
       "449      7.681961     2.300000      6.452789     2.302763   Virginica"
      ]
     },
     "execution_count": 35,
     "metadata": {},
     "output_type": "execute_result"
    },
    {
     "name": "stdout",
     "output_type": "stream",
     "text": [
      "time: 27.3 ms (started: 2022-06-04 17:58:55 +02:00)\n"
     ]
    }
   ],
   "source": [
    "np.random.seed(2022)\n",
    "synthetic_data_vc = vc.generate(n_samples=len(df)*3)\n",
    "synthetic_data_vc = pd.DataFrame(synthetic_data_vc, columns=['sepal.length.value','sepal.width.value','petal.length.value','petal.width.value','variety.value'])\n",
    "synthetic_data_vc = ht.reverse_transform(synthetic_data_vc)\n",
    "synthetic_data_vc.tail()"
   ]
  },
  {
   "cell_type": "markdown",
   "metadata": {
    "collapsed": false
   },
   "source": [
    "## Evaluación\n",
    "\n"
   ]
  },
  {
   "cell_type": "markdown",
   "metadata": {
    "collapsed": false
   },
   "source": [
    "### Evaluation Metrics"
   ]
  },
  {
   "cell_type": "markdown",
   "metadata": {},
   "source": [
    "El paquete SDMetrics parte también de SDV ofrece un framework para evaluar generadores de datos sintéticos que pretende ser un benchmark para la comparabilidad objetiva independientmente del caso y dataset.  \n",
    "Incluye en una sola métrica:\n",
    "- Statistical metrics which use statistical tests to compare the distributions of the real and synthetic distributions.\n",
    "- Detection metrics which use machine learning to try to distinguish between real and synthetic data.\n",
    "- Efficacy metrics which compare the performance of machine learning models when run on the synthetic and real data.\n",
    "- Bayesian Network and Gaussian Mixture metrics which learn the distribution of the real data and evaluate the likelihood of the synthetic data belonging to the learned distribution.\n",
    "- Privacy metrics which evaluate whether the synthetic data is leaking information about the real data."
   ]
  },
  {
   "cell_type": "code",
   "execution_count": null,
   "metadata": {},
   "outputs": [
    {
     "name": "stdout",
     "output_type": "stream",
     "text": [
      "time: 401 µs (started: 2022-06-04 17:58:55 +02:00)\n"
     ]
    }
   ],
   "source": [
    "synth_data = [synthetic_data_gc,synthetic_data_ctgan,synthetic_data_copgan,synthetic_data_tvae, synthetic_data_fpca, synthetic_data_gcs, synthetic_data_vc]"
   ]
  },
  {
   "cell_type": "code",
   "execution_count": null,
   "metadata": {},
   "outputs": [
    {
     "name": "stdout",
     "output_type": "stream",
     "text": [
      "time: 441 µs (started: 2022-06-04 17:58:55 +02:00)\n"
     ]
    }
   ],
   "source": [
    "def get_df_name(df):\n",
    "    name =[x for x in globals() if globals()[x] is df][0]\n",
    "    return name"
   ]
  },
  {
   "cell_type": "code",
   "execution_count": null,
   "metadata": {},
   "outputs": [
    {
     "name": "stdout",
     "output_type": "stream",
     "text": [
      "Overall Score synthetic_data_gc: 0.7120548330115664\n",
      "Overall Score synthetic_data_ctgan: 0.3726412912415277\n",
      "Overall Score synthetic_data_copgan: 0.32790384174071907\n",
      "Overall Score synthetic_data_tvae: 0.7958092608562766\n",
      "Overall Score synthetic_data_fpca: 0.8284102085388252\n",
      "Overall Score synthetic_data_gcs: 0.7752424203110654\n",
      "Overall Score synthetic_data_vc: 0.7993455231208528\n",
      "time: 23.9 s (started: 2022-06-04 17:58:55 +02:00)\n"
     ]
    }
   ],
   "source": [
    "for dataset in synth_data:\n",
    "    print(f\"Overall Score {get_df_name(dataset)}:\",evaluate(dataset, df, metadata, table_name='iris'))"
   ]
  },
  {
   "cell_type": "markdown",
   "metadata": {},
   "source": [
    "vamos a examinar más en detalle el modelo VineCopula"
   ]
  },
  {
   "cell_type": "code",
   "execution_count": null,
   "metadata": {
    "collapsed": false,
    "pycharm": {
     "is_executing": true,
     "name": "#%%\n"
    }
   },
   "outputs": [
    {
     "data": {
      "text/html": [
       "<div>\n",
       "<style scoped>\n",
       "    .dataframe tbody tr th:only-of-type {\n",
       "        vertical-align: middle;\n",
       "    }\n",
       "\n",
       "    .dataframe tbody tr th {\n",
       "        vertical-align: top;\n",
       "    }\n",
       "\n",
       "    .dataframe thead th {\n",
       "        text-align: right;\n",
       "    }\n",
       "</style>\n",
       "<table border=\"1\" class=\"dataframe\">\n",
       "  <thead>\n",
       "    <tr style=\"text-align: right;\">\n",
       "      <th></th>\n",
       "      <th>metric</th>\n",
       "      <th>name</th>\n",
       "      <th>raw_score</th>\n",
       "      <th>normalized_score</th>\n",
       "      <th>min_value</th>\n",
       "      <th>max_value</th>\n",
       "      <th>goal</th>\n",
       "      <th>error</th>\n",
       "    </tr>\n",
       "  </thead>\n",
       "  <tbody>\n",
       "    <tr>\n",
       "      <th>0</th>\n",
       "      <td>BNLogLikelihood</td>\n",
       "      <td>BayesianNetwork Log Likelihood</td>\n",
       "      <td>NaN</td>\n",
       "      <td>NaN</td>\n",
       "      <td>-inf</td>\n",
       "      <td>0.0</td>\n",
       "      <td>MAXIMIZE</td>\n",
       "      <td>Please install pomegranate with `pip install p...</td>\n",
       "    </tr>\n",
       "    <tr>\n",
       "      <th>1</th>\n",
       "      <td>LogisticDetection</td>\n",
       "      <td>LogisticRegression Detection</td>\n",
       "      <td>1.000000</td>\n",
       "      <td>1.000000</td>\n",
       "      <td>0.0</td>\n",
       "      <td>1.0</td>\n",
       "      <td>MAXIMIZE</td>\n",
       "      <td>None</td>\n",
       "    </tr>\n",
       "    <tr>\n",
       "      <th>2</th>\n",
       "      <td>SVCDetection</td>\n",
       "      <td>SVC Detection</td>\n",
       "      <td>0.616356</td>\n",
       "      <td>0.616356</td>\n",
       "      <td>0.0</td>\n",
       "      <td>1.0</td>\n",
       "      <td>MAXIMIZE</td>\n",
       "      <td>None</td>\n",
       "    </tr>\n",
       "    <tr>\n",
       "      <th>3</th>\n",
       "      <td>BinaryDecisionTreeClassifier</td>\n",
       "      <td>None</td>\n",
       "      <td>0.844444</td>\n",
       "      <td>0.844444</td>\n",
       "      <td>0.0</td>\n",
       "      <td>1.0</td>\n",
       "      <td>MAXIMIZE</td>\n",
       "      <td>None</td>\n",
       "    </tr>\n",
       "    <tr>\n",
       "      <th>4</th>\n",
       "      <td>BinaryAdaBoostClassifier</td>\n",
       "      <td>None</td>\n",
       "      <td>0.960000</td>\n",
       "      <td>0.960000</td>\n",
       "      <td>0.0</td>\n",
       "      <td>1.0</td>\n",
       "      <td>MAXIMIZE</td>\n",
       "      <td>None</td>\n",
       "    </tr>\n",
       "    <tr>\n",
       "      <th>5</th>\n",
       "      <td>BinaryLogisticRegression</td>\n",
       "      <td>None</td>\n",
       "      <td>1.000000</td>\n",
       "      <td>1.000000</td>\n",
       "      <td>0.0</td>\n",
       "      <td>1.0</td>\n",
       "      <td>MAXIMIZE</td>\n",
       "      <td>None</td>\n",
       "    </tr>\n",
       "    <tr>\n",
       "      <th>6</th>\n",
       "      <td>BinaryMLPClassifier</td>\n",
       "      <td>None</td>\n",
       "      <td>1.000000</td>\n",
       "      <td>1.000000</td>\n",
       "      <td>0.0</td>\n",
       "      <td>1.0</td>\n",
       "      <td>MAXIMIZE</td>\n",
       "      <td>None</td>\n",
       "    </tr>\n",
       "    <tr>\n",
       "      <th>7</th>\n",
       "      <td>MulticlassDecisionTreeClassifier</td>\n",
       "      <td>None</td>\n",
       "      <td>0.730290</td>\n",
       "      <td>0.730290</td>\n",
       "      <td>0.0</td>\n",
       "      <td>1.0</td>\n",
       "      <td>MAXIMIZE</td>\n",
       "      <td>None</td>\n",
       "    </tr>\n",
       "    <tr>\n",
       "      <th>8</th>\n",
       "      <td>MulticlassMLPClassifier</td>\n",
       "      <td>None</td>\n",
       "      <td>0.898787</td>\n",
       "      <td>0.898787</td>\n",
       "      <td>0.0</td>\n",
       "      <td>1.0</td>\n",
       "      <td>MAXIMIZE</td>\n",
       "      <td>None</td>\n",
       "    </tr>\n",
       "    <tr>\n",
       "      <th>9</th>\n",
       "      <td>LinearRegression</td>\n",
       "      <td>None</td>\n",
       "      <td>NaN</td>\n",
       "      <td>NaN</td>\n",
       "      <td>-inf</td>\n",
       "      <td>1.0</td>\n",
       "      <td>MAXIMIZE</td>\n",
       "      <td>could not convert string to float: 'Setosa'</td>\n",
       "    </tr>\n",
       "    <tr>\n",
       "      <th>10</th>\n",
       "      <td>MLPRegressor</td>\n",
       "      <td>None</td>\n",
       "      <td>NaN</td>\n",
       "      <td>NaN</td>\n",
       "      <td>-inf</td>\n",
       "      <td>1.0</td>\n",
       "      <td>MAXIMIZE</td>\n",
       "      <td>could not convert string to float: 'Setosa'</td>\n",
       "    </tr>\n",
       "    <tr>\n",
       "      <th>11</th>\n",
       "      <td>GMLogLikelihood</td>\n",
       "      <td>GaussianMixture Log Likelihood</td>\n",
       "      <td>-5.328707</td>\n",
       "      <td>0.004827</td>\n",
       "      <td>-inf</td>\n",
       "      <td>inf</td>\n",
       "      <td>MAXIMIZE</td>\n",
       "      <td>None</td>\n",
       "    </tr>\n",
       "    <tr>\n",
       "      <th>12</th>\n",
       "      <td>CSTest</td>\n",
       "      <td>Chi-Squared</td>\n",
       "      <td>0.999452</td>\n",
       "      <td>0.999452</td>\n",
       "      <td>0.0</td>\n",
       "      <td>1.0</td>\n",
       "      <td>MAXIMIZE</td>\n",
       "      <td>None</td>\n",
       "    </tr>\n",
       "    <tr>\n",
       "      <th>13</th>\n",
       "      <td>KSTest</td>\n",
       "      <td>Inverted Kolmogorov-Smirnov D statistic</td>\n",
       "      <td>0.950000</td>\n",
       "      <td>0.950000</td>\n",
       "      <td>0.0</td>\n",
       "      <td>1.0</td>\n",
       "      <td>MAXIMIZE</td>\n",
       "      <td>None</td>\n",
       "    </tr>\n",
       "    <tr>\n",
       "      <th>14</th>\n",
       "      <td>KSTestExtended</td>\n",
       "      <td>Inverted Kolmogorov-Smirnov D statistic</td>\n",
       "      <td>0.952000</td>\n",
       "      <td>0.952000</td>\n",
       "      <td>0.0</td>\n",
       "      <td>1.0</td>\n",
       "      <td>MAXIMIZE</td>\n",
       "      <td>None</td>\n",
       "    </tr>\n",
       "    <tr>\n",
       "      <th>15</th>\n",
       "      <td>CategoricalCAP</td>\n",
       "      <td>CategoricalCAP</td>\n",
       "      <td>NaN</td>\n",
       "      <td>NaN</td>\n",
       "      <td>0.0</td>\n",
       "      <td>1.0</td>\n",
       "      <td>MAXIMIZE</td>\n",
       "      <td>Column sepal.length has invalid data type {'ty...</td>\n",
       "    </tr>\n",
       "    <tr>\n",
       "      <th>16</th>\n",
       "      <td>CategoricalZeroCAP</td>\n",
       "      <td>0CAP</td>\n",
       "      <td>NaN</td>\n",
       "      <td>NaN</td>\n",
       "      <td>0.0</td>\n",
       "      <td>1.0</td>\n",
       "      <td>MAXIMIZE</td>\n",
       "      <td>Column sepal.length has invalid data type {'ty...</td>\n",
       "    </tr>\n",
       "    <tr>\n",
       "      <th>17</th>\n",
       "      <td>CategoricalGeneralizedCAP</td>\n",
       "      <td>Categorical GeneralizedCAP</td>\n",
       "      <td>NaN</td>\n",
       "      <td>NaN</td>\n",
       "      <td>0.0</td>\n",
       "      <td>1.0</td>\n",
       "      <td>MAXIMIZE</td>\n",
       "      <td>Column sepal.length has invalid data type {'ty...</td>\n",
       "    </tr>\n",
       "    <tr>\n",
       "      <th>18</th>\n",
       "      <td>CategoricalNB</td>\n",
       "      <td>Categorical NaiveBayesian</td>\n",
       "      <td>NaN</td>\n",
       "      <td>NaN</td>\n",
       "      <td>0.0</td>\n",
       "      <td>1.0</td>\n",
       "      <td>MAXIMIZE</td>\n",
       "      <td>Column sepal.length has invalid data type {'ty...</td>\n",
       "    </tr>\n",
       "    <tr>\n",
       "      <th>19</th>\n",
       "      <td>CategoricalKNN</td>\n",
       "      <td>K-Nearest Neighbors</td>\n",
       "      <td>NaN</td>\n",
       "      <td>NaN</td>\n",
       "      <td>0.0</td>\n",
       "      <td>1.0</td>\n",
       "      <td>MAXIMIZE</td>\n",
       "      <td>Column sepal.length has invalid data type {'ty...</td>\n",
       "    </tr>\n",
       "    <tr>\n",
       "      <th>20</th>\n",
       "      <td>CategoricalRF</td>\n",
       "      <td>Categorical Random Forest</td>\n",
       "      <td>NaN</td>\n",
       "      <td>NaN</td>\n",
       "      <td>0.0</td>\n",
       "      <td>1.0</td>\n",
       "      <td>MAXIMIZE</td>\n",
       "      <td>Column sepal.length has invalid data type {'ty...</td>\n",
       "    </tr>\n",
       "    <tr>\n",
       "      <th>21</th>\n",
       "      <td>CategoricalSVM</td>\n",
       "      <td>Support Vector Classifier</td>\n",
       "      <td>NaN</td>\n",
       "      <td>NaN</td>\n",
       "      <td>0.0</td>\n",
       "      <td>1.0</td>\n",
       "      <td>MAXIMIZE</td>\n",
       "      <td>Column sepal.length has invalid data type {'ty...</td>\n",
       "    </tr>\n",
       "    <tr>\n",
       "      <th>22</th>\n",
       "      <td>CategoricalEnsemble</td>\n",
       "      <td>Ensemble</td>\n",
       "      <td>NaN</td>\n",
       "      <td>NaN</td>\n",
       "      <td>0.0</td>\n",
       "      <td>1.0</td>\n",
       "      <td>MAXIMIZE</td>\n",
       "      <td>'&lt;' not supported between instances of 'float'...</td>\n",
       "    </tr>\n",
       "    <tr>\n",
       "      <th>23</th>\n",
       "      <td>NumericalLR</td>\n",
       "      <td>Numerical Linear Regression</td>\n",
       "      <td>NaN</td>\n",
       "      <td>NaN</td>\n",
       "      <td>0.0</td>\n",
       "      <td>inf</td>\n",
       "      <td>MAXIMIZE</td>\n",
       "      <td>Column sepal.length has invalid data type {'ty...</td>\n",
       "    </tr>\n",
       "    <tr>\n",
       "      <th>24</th>\n",
       "      <td>NumericalMLP</td>\n",
       "      <td>Multi-layer Perceptron Regression</td>\n",
       "      <td>NaN</td>\n",
       "      <td>NaN</td>\n",
       "      <td>0.0</td>\n",
       "      <td>inf</td>\n",
       "      <td>MAXIMIZE</td>\n",
       "      <td>Column sepal.length has invalid data type {'ty...</td>\n",
       "    </tr>\n",
       "    <tr>\n",
       "      <th>25</th>\n",
       "      <td>NumericalSVR</td>\n",
       "      <td>Numerical Support-vector Regression</td>\n",
       "      <td>NaN</td>\n",
       "      <td>NaN</td>\n",
       "      <td>0.0</td>\n",
       "      <td>inf</td>\n",
       "      <td>MAXIMIZE</td>\n",
       "      <td>Column sepal.length has invalid data type {'ty...</td>\n",
       "    </tr>\n",
       "    <tr>\n",
       "      <th>26</th>\n",
       "      <td>NumericalRadiusNearestNeighbor</td>\n",
       "      <td>Numerical Radius Nearest Neighbor</td>\n",
       "      <td>NaN</td>\n",
       "      <td>NaN</td>\n",
       "      <td>0.0</td>\n",
       "      <td>inf</td>\n",
       "      <td>MAXIMIZE</td>\n",
       "      <td>Column sepal.length has invalid data type {'ty...</td>\n",
       "    </tr>\n",
       "    <tr>\n",
       "      <th>27</th>\n",
       "      <td>ContinuousKLDivergence</td>\n",
       "      <td>Continuous Kullback–Leibler Divergence</td>\n",
       "      <td>0.360750</td>\n",
       "      <td>0.360750</td>\n",
       "      <td>0.0</td>\n",
       "      <td>1.0</td>\n",
       "      <td>MAXIMIZE</td>\n",
       "      <td>None</td>\n",
       "    </tr>\n",
       "    <tr>\n",
       "      <th>28</th>\n",
       "      <td>DiscreteKLDivergence</td>\n",
       "      <td>Discrete Kullback–Leibler Divergence</td>\n",
       "      <td>NaN</td>\n",
       "      <td>NaN</td>\n",
       "      <td>0.0</td>\n",
       "      <td>1.0</td>\n",
       "      <td>MAXIMIZE</td>\n",
       "      <td>None</td>\n",
       "    </tr>\n",
       "  </tbody>\n",
       "</table>\n",
       "</div>"
      ],
      "text/plain": [
       "                              metric                                     name  \\\n",
       "0                    BNLogLikelihood           BayesianNetwork Log Likelihood   \n",
       "1                  LogisticDetection             LogisticRegression Detection   \n",
       "2                       SVCDetection                            SVC Detection   \n",
       "3       BinaryDecisionTreeClassifier                                     None   \n",
       "4           BinaryAdaBoostClassifier                                     None   \n",
       "5           BinaryLogisticRegression                                     None   \n",
       "6                BinaryMLPClassifier                                     None   \n",
       "7   MulticlassDecisionTreeClassifier                                     None   \n",
       "8            MulticlassMLPClassifier                                     None   \n",
       "9                   LinearRegression                                     None   \n",
       "10                      MLPRegressor                                     None   \n",
       "11                   GMLogLikelihood           GaussianMixture Log Likelihood   \n",
       "12                            CSTest                              Chi-Squared   \n",
       "13                            KSTest  Inverted Kolmogorov-Smirnov D statistic   \n",
       "14                    KSTestExtended  Inverted Kolmogorov-Smirnov D statistic   \n",
       "15                    CategoricalCAP                           CategoricalCAP   \n",
       "16                CategoricalZeroCAP                                     0CAP   \n",
       "17         CategoricalGeneralizedCAP               Categorical GeneralizedCAP   \n",
       "18                     CategoricalNB                Categorical NaiveBayesian   \n",
       "19                    CategoricalKNN                      K-Nearest Neighbors   \n",
       "20                     CategoricalRF                Categorical Random Forest   \n",
       "21                    CategoricalSVM                Support Vector Classifier   \n",
       "22               CategoricalEnsemble                                 Ensemble   \n",
       "23                       NumericalLR              Numerical Linear Regression   \n",
       "24                      NumericalMLP        Multi-layer Perceptron Regression   \n",
       "25                      NumericalSVR      Numerical Support-vector Regression   \n",
       "26    NumericalRadiusNearestNeighbor        Numerical Radius Nearest Neighbor   \n",
       "27            ContinuousKLDivergence   Continuous Kullback–Leibler Divergence   \n",
       "28              DiscreteKLDivergence     Discrete Kullback–Leibler Divergence   \n",
       "\n",
       "    raw_score  normalized_score  min_value  max_value      goal  \\\n",
       "0         NaN               NaN       -inf        0.0  MAXIMIZE   \n",
       "1    1.000000          1.000000        0.0        1.0  MAXIMIZE   \n",
       "2    0.616356          0.616356        0.0        1.0  MAXIMIZE   \n",
       "3    0.844444          0.844444        0.0        1.0  MAXIMIZE   \n",
       "4    0.960000          0.960000        0.0        1.0  MAXIMIZE   \n",
       "5    1.000000          1.000000        0.0        1.0  MAXIMIZE   \n",
       "6    1.000000          1.000000        0.0        1.0  MAXIMIZE   \n",
       "7    0.730290          0.730290        0.0        1.0  MAXIMIZE   \n",
       "8    0.898787          0.898787        0.0        1.0  MAXIMIZE   \n",
       "9         NaN               NaN       -inf        1.0  MAXIMIZE   \n",
       "10        NaN               NaN       -inf        1.0  MAXIMIZE   \n",
       "11  -5.328707          0.004827       -inf        inf  MAXIMIZE   \n",
       "12   0.999452          0.999452        0.0        1.0  MAXIMIZE   \n",
       "13   0.950000          0.950000        0.0        1.0  MAXIMIZE   \n",
       "14   0.952000          0.952000        0.0        1.0  MAXIMIZE   \n",
       "15        NaN               NaN        0.0        1.0  MAXIMIZE   \n",
       "16        NaN               NaN        0.0        1.0  MAXIMIZE   \n",
       "17        NaN               NaN        0.0        1.0  MAXIMIZE   \n",
       "18        NaN               NaN        0.0        1.0  MAXIMIZE   \n",
       "19        NaN               NaN        0.0        1.0  MAXIMIZE   \n",
       "20        NaN               NaN        0.0        1.0  MAXIMIZE   \n",
       "21        NaN               NaN        0.0        1.0  MAXIMIZE   \n",
       "22        NaN               NaN        0.0        1.0  MAXIMIZE   \n",
       "23        NaN               NaN        0.0        inf  MAXIMIZE   \n",
       "24        NaN               NaN        0.0        inf  MAXIMIZE   \n",
       "25        NaN               NaN        0.0        inf  MAXIMIZE   \n",
       "26        NaN               NaN        0.0        inf  MAXIMIZE   \n",
       "27   0.360750          0.360750        0.0        1.0  MAXIMIZE   \n",
       "28        NaN               NaN        0.0        1.0  MAXIMIZE   \n",
       "\n",
       "                                                error  \n",
       "0   Please install pomegranate with `pip install p...  \n",
       "1                                                None  \n",
       "2                                                None  \n",
       "3                                                None  \n",
       "4                                                None  \n",
       "5                                                None  \n",
       "6                                                None  \n",
       "7                                                None  \n",
       "8                                                None  \n",
       "9         could not convert string to float: 'Setosa'  \n",
       "10        could not convert string to float: 'Setosa'  \n",
       "11                                               None  \n",
       "12                                               None  \n",
       "13                                               None  \n",
       "14                                               None  \n",
       "15  Column sepal.length has invalid data type {'ty...  \n",
       "16  Column sepal.length has invalid data type {'ty...  \n",
       "17  Column sepal.length has invalid data type {'ty...  \n",
       "18  Column sepal.length has invalid data type {'ty...  \n",
       "19  Column sepal.length has invalid data type {'ty...  \n",
       "20  Column sepal.length has invalid data type {'ty...  \n",
       "21  Column sepal.length has invalid data type {'ty...  \n",
       "22  '<' not supported between instances of 'float'...  \n",
       "23  Column sepal.length has invalid data type {'ty...  \n",
       "24  Column sepal.length has invalid data type {'ty...  \n",
       "25  Column sepal.length has invalid data type {'ty...  \n",
       "26  Column sepal.length has invalid data type {'ty...  \n",
       "27                                               None  \n",
       "28                                               None  "
      ]
     },
     "execution_count": 39,
     "metadata": {},
     "output_type": "execute_result"
    },
    {
     "name": "stdout",
     "output_type": "stream",
     "text": [
      "time: 3.4 s (started: 2022-06-04 17:59:19 +02:00)\n"
     ]
    }
   ],
   "source": [
    "ev = evaluate(synthetic_data_vc, df,metadata,aggregate=False,table_name='iris')\n",
    "ev"
   ]
  },
  {
   "cell_type": "markdown",
   "metadata": {},
   "source": [
    "### Table Evaluator\n",
    "https://github.com/Baukebrenninkmeijer/table-evaluator"
   ]
  },
  {
   "cell_type": "code",
   "execution_count": null,
   "metadata": {},
   "outputs": [
    {
     "name": "stdout",
     "output_type": "stream",
     "text": [
      "time: 14.3 ms (started: 2022-06-04 17:59:23 +02:00)\n"
     ]
    }
   ],
   "source": [
    "table_evaluator = TableEvaluator(df, synthetic_data_vc)"
   ]
  },
  {
   "cell_type": "code",
   "execution_count": null,
   "metadata": {},
   "outputs": [
    {
     "data": {
      "image/png": "[encoded data removed]",
      "text/plain": [
       "<Figure size 720x360 with 2 Axes>"
      ]
     },
     "metadata": {
      "needs_background": "light"
     },
     "output_type": "display_data"
    },
    {
     "data": {
      "image/png": "[encoded data removed]",
      "text/plain": [
       "<Figure size 1152x864 with 8 Axes>"
      ]
     },
     "metadata": {
      "needs_background": "light"
     },
     "output_type": "display_data"
    },
    {
     "data": {
      "image/png": "[encoded data removed]",
      "text/plain": [
       "<Figure size 1152x864 with 6 Axes>"
      ]
     },
     "metadata": {
      "needs_background": "light"
     },
     "output_type": "display_data"
    },
    {
     "data": {
      "image/png": "[encoded data removed]",
      "text/plain": [
       "<Figure size 1728x504 with 6 Axes>"
      ]
     },
     "metadata": {
      "needs_background": "light"
     },
     "output_type": "display_data"
    },
    {
     "data": {
      "image/png": "[encoded data removed]",
      "text/plain": [
       "<Figure size 864x432 with 2 Axes>"
      ]
     },
     "metadata": {},
     "output_type": "display_data"
    },
    {
     "name": "stdout",
     "output_type": "stream",
     "text": [
      "time: 4.29 s (started: 2022-06-04 17:59:23 +02:00)\n"
     ]
    }
   ],
   "source": [
    "table_evaluator.visual_evaluation()"
   ]
  },
  {
   "cell_type": "code",
   "execution_count": null,
   "metadata": {},
   "outputs": [
    {
     "data": {
      "text/markdown": [
       "## Kolmogorov-Smirnov statistic"
      ],
      "text/plain": [
       "<IPython.core.display.Markdown object>"
      ]
     },
     "metadata": {},
     "output_type": "display_data"
    },
    {
     "data": {
      "text/html": [
       "<div>\n",
       "<style scoped>\n",
       "    .dataframe tbody tr th:only-of-type {\n",
       "        vertical-align: middle;\n",
       "    }\n",
       "\n",
       "    .dataframe tbody tr th {\n",
       "        vertical-align: top;\n",
       "    }\n",
       "\n",
       "    .dataframe thead th {\n",
       "        text-align: right;\n",
       "    }\n",
       "</style>\n",
       "<table border=\"1\" class=\"dataframe\">\n",
       "  <thead>\n",
       "    <tr style=\"text-align: right;\">\n",
       "      <th></th>\n",
       "      <th>statistic</th>\n",
       "      <th>p-value</th>\n",
       "      <th>equality</th>\n",
       "    </tr>\n",
       "    <tr>\n",
       "      <th>col_name</th>\n",
       "      <th></th>\n",
       "      <th></th>\n",
       "      <th></th>\n",
       "    </tr>\n",
       "  </thead>\n",
       "  <tbody>\n",
       "    <tr>\n",
       "      <th>sepal.length</th>\n",
       "      <td>0.0867</td>\n",
       "      <td>0.6279</td>\n",
       "      <td>identical</td>\n",
       "    </tr>\n",
       "    <tr>\n",
       "      <th>sepal.width</th>\n",
       "      <td>0.0533</td>\n",
       "      <td>0.9839</td>\n",
       "      <td>identical</td>\n",
       "    </tr>\n",
       "    <tr>\n",
       "      <th>petal.length</th>\n",
       "      <td>0.0800</td>\n",
       "      <td>0.7250</td>\n",
       "      <td>identical</td>\n",
       "    </tr>\n",
       "    <tr>\n",
       "      <th>petal.width</th>\n",
       "      <td>0.0933</td>\n",
       "      <td>0.5322</td>\n",
       "      <td>identical</td>\n",
       "    </tr>\n",
       "  </tbody>\n",
       "</table>\n",
       "</div>"
      ],
      "text/plain": [
       "              statistic  p-value   equality\n",
       "col_name                                   \n",
       "sepal.length     0.0867   0.6279  identical\n",
       "sepal.width      0.0533   0.9839  identical\n",
       "petal.length     0.0800   0.7250  identical\n",
       "petal.width      0.0933   0.5322  identical"
      ]
     },
     "metadata": {},
     "output_type": "display_data"
    },
    {
     "data": {
      "text/html": [
       "<h1 style=\"text-align: center\">Synthetic Data Report</h1>"
      ],
      "text/plain": [
       "<IPython.core.display.HTML object>"
      ]
     },
     "metadata": {},
     "output_type": "display_data"
    },
    {
     "data": {
      "application/vnd.jupyter.widget-view+json": {
       "model_id": "08fc78abfb5f4269bb2dea1e4ae30219",
       "version_major": 2,
       "version_minor": 0
      },
      "text/plain": [
       "Tab(children=(VBox(children=(Output(),)), VBox(children=(Output(),)), VBox(children=(Output(),)), VBox(childre…"
      ]
     },
     "metadata": {},
     "output_type": "display_data"
    },
    {
     "name": "stdout",
     "output_type": "stream",
     "text": [
      "time: 6.32 s (started: 2022-06-04 17:59:27 +02:00)\n"
     ]
    }
   ],
   "source": [
    "table_evaluator.evaluate(target_col='variety', notebook=True)"
   ]
  },
  {
   "cell_type": "markdown",
   "metadata": {},
   "source": [
    "### Plots\n",
    "\n",
    "histograms, barplots, boxplots, feature importance"
   ]
  },
  {
   "cell_type": "code",
   "execution_count": null,
   "metadata": {},
   "outputs": [
    {
     "name": "stdout",
     "output_type": "stream",
     "text": [
      "time: 1.71 ms (started: 2022-06-04 17:59:34 +02:00)\n"
     ]
    }
   ],
   "source": [
    "def histograms_comparison(real_df, synthetic_df , col_name, isContinuous): \n",
    "    \"\"\"\n",
    "    Visualize a variable in real and synth data.\n",
    "    - df dataframe\n",
    "    - col_name is the variable name in the dataframe\n",
    "    - full_name is the full variable name\n",
    "    - continuous is True if the variable is continuous, False otherwise\n",
    "    \"\"\"\n",
    "    f, (ax1, ax2) = plt.subplots(nrows=1, ncols=2, figsize=(12,3), dpi=90)\n",
    "    sns.set_color_codes(palette='pastel')\n",
    "\n",
    "    count_null = real_df[col_name].isnull().sum()\n",
    "    \n",
    "    if isContinuous:\n",
    "        \n",
    "        sns.histplot(real_df.loc[real_df[col_name].notnull(), col_name], kde=False, color='b', ax=ax1)\n",
    "    else:\n",
    "        sns.countplot(real_df[col_name], order=sorted(real_df[col_name].unique()), color='b', saturation=1, ax=ax1)\n",
    "    ax1.set_xlabel(col_name)\n",
    "    ax1.set_ylabel('Count')\n",
    "    ax1.set_title(col_name+ ' Numero de nulos: '+str(count_null))\n",
    "    plt.xticks(rotation = 90)\n",
    "\n",
    "    count_null = synthetic_df[col_name].isnull().sum()\n",
    "    \n",
    "    if isContinuous:\n",
    "        \n",
    "        sns.histplot(synthetic_df.loc[synthetic_df[col_name].notnull(), col_name], kde=False, color='red', ax=ax2)\n",
    "    else:\n",
    "        sns.countplot(synthetic_df[col_name], order=sorted(df[col_name].unique()), color='red', saturation=1, ax=ax2)\n",
    "    ax2.set_xlabel(col_name)\n",
    "    ax2.set_ylabel('Count')\n",
    "    ax2.set_title('Synthetic '+col_name+ '  Numero de nulos: '+str(count_null))\n",
    "    plt.xticks(rotation = 90)\n",
    "\n",
    "    \n",
    "    plt.tight_layout()\n",
    "    "
   ]
  },
  {
   "cell_type": "code",
   "execution_count": null,
   "metadata": {},
   "outputs": [
    {
     "data": {
      "image/png": "[encoded data removed]",
      "text/plain": [
       "<Figure size 1080x270 with 2 Axes>"
      ]
     },
     "metadata": {},
     "output_type": "display_data"
    },
    {
     "data": {
      "image/png": "[encoded data removed]",
      "text/plain": [
       "<Figure size 1080x270 with 2 Axes>"
      ]
     },
     "metadata": {},
     "output_type": "display_data"
    },
    {
     "data": {
      "image/png": "[encoded data removed]",
      "text/plain": [
       "<Figure size 1080x270 with 2 Axes>"
      ]
     },
     "metadata": {},
     "output_type": "display_data"
    },
    {
     "data": {
      "image/png": "[encoded data removed]",
      "text/plain": [
       "<Figure size 1080x270 with 2 Axes>"
      ]
     },
     "metadata": {},
     "output_type": "display_data"
    },
    {
     "data": {
      "image/png": "[encoded data removed]",
      "text/plain": [
       "<Figure size 1080x270 with 2 Axes>"
      ]
     },
     "metadata": {},
     "output_type": "display_data"
    },
    {
     "name": "stdout",
     "output_type": "stream",
     "text": [
      "time: 2.26 s (started: 2022-06-04 17:59:34 +02:00)\n"
     ]
    }
   ],
   "source": [
    "for i in list(df.columns):\n",
    "    if (df[i].dtype==float):\n",
    "        histograms_comparison(df,synthetic_data_vc,col_name=i, isContinuous=True)\n",
    "    else:  \n",
    "        histograms_comparison(df,synthetic_data_vc, col_name=i, isContinuous=False)"
   ]
  },
  {
   "cell_type": "code",
   "execution_count": null,
   "metadata": {},
   "outputs": [
    {
     "data": {
      "image/png": "[encoded data removed]",
      "text/plain": [
       "<Figure size 432x288 with 1 Axes>"
      ]
     },
     "metadata": {},
     "output_type": "display_data"
    },
    {
     "data": {
      "image/png": "[encoded data removed]",
      "text/plain": [
       "<Figure size 432x288 with 1 Axes>"
      ]
     },
     "metadata": {},
     "output_type": "display_data"
    },
    {
     "name": "stdout",
     "output_type": "stream",
     "text": [
      "time: 454 ms (started: 2022-06-04 17:59:37 +02:00)\n"
     ]
    }
   ],
   "source": [
    "from copulas.visualization import compare_3d, compare_2d\n",
    "\n",
    "\n",
    "# Plot the real and the synthetic data to compare\n",
    "compare_2d(df.iloc[:,0:2], synthetic_data_tvae.iloc[:,0:2])\n",
    "compare_2d(df.iloc[:,2:4], synthetic_data_tvae.iloc[:,2:4])"
   ]
  },
  {
   "cell_type": "markdown",
   "metadata": {},
   "source": [
    "## Eficacia para Modelado"
   ]
  },
  {
   "cell_type": "markdown",
   "metadata": {},
   "source": [
    "### Datos Reales"
   ]
  },
  {
   "cell_type": "markdown",
   "metadata": {},
   "source": [
    "#### Entreno"
   ]
  },
  {
   "cell_type": "code",
   "execution_count": null,
   "metadata": {},
   "outputs": [
    {
     "name": "stdout",
     "output_type": "stream",
     "text": [
      "time: 2.38 ms (started: 2022-06-04 17:59:37 +02:00)\n"
     ]
    }
   ],
   "source": [
    "xtrain =  train.drop(columns=['variety']) \n",
    "ytrain = train['variety']\n",
    "xtest =  test.drop(columns=['variety']) \n",
    "ytest = test['variety']"
   ]
  },
  {
   "cell_type": "code",
   "execution_count": null,
   "metadata": {},
   "outputs": [
    {
     "name": "stdout",
     "output_type": "stream",
     "text": [
      "Numeirc :['sepal.length', 'sepal.width', 'petal.length', 'petal.width']\n",
      "time: 1.01 ms (started: 2022-06-04 17:59:37 +02:00)\n"
     ]
    }
   ],
   "source": [
    "# numericas\n",
    "numeric = list(xtrain.columns)\n",
    "print(f\"Numeirc :{numeric}\")"
   ]
  },
  {
   "cell_type": "code",
   "execution_count": null,
   "metadata": {},
   "outputs": [
    {
     "name": "stdout",
     "output_type": "stream",
     "text": [
      "time: 1.01 ms (started: 2022-06-04 17:59:37 +02:00)\n"
     ]
    }
   ],
   "source": [
    "#Pipelines    \n",
    "numeric_transformer = Pipeline(steps=[\n",
    "    ('imputer', SimpleImputer(strategy='median')),\n",
    "    ('scaler', StandardScaler())])\n",
    "\n",
    "\n",
    "preprocessor = ColumnTransformer(\n",
    "    transformers=[\n",
    "        ('num', numeric_transformer, numeric)])\n",
    "\n",
    "model = Pipeline(steps=[('preprocessor', preprocessor),\n",
    "                        ('clasificador', LGBMClassifier())])"
   ]
  },
  {
   "cell_type": "code",
   "execution_count": null,
   "metadata": {},
   "outputs": [
    {
     "name": "stdout",
     "output_type": "stream",
     "text": [
      "Training model...\n",
      "done!\n",
      "time: 5.2 s (started: 2022-06-04 17:59:37 +02:00)\n"
     ]
    }
   ],
   "source": [
    "print('Training model...')\n",
    "model.fit(xtrain,ytrain)\n",
    "print(\"done!\")"
   ]
  },
  {
   "cell_type": "markdown",
   "metadata": {},
   "source": [
    "#### Evaluación"
   ]
  },
  {
   "cell_type": "code",
   "execution_count": null,
   "metadata": {},
   "outputs": [
    {
     "name": "stdout",
     "output_type": "stream",
     "text": [
      "time: 644 µs (started: 2022-06-04 17:59:43 +02:00)\n"
     ]
    }
   ],
   "source": [
    "def evaluate_model(ytest, ypred, ypred_proba = None):\n",
    "    if ypred_proba is not None:\n",
    "        print('ROC-AUC score of the model: {}'.format(roc_auc_score(ytest, np.transpose([pred[:, 1] for pred in ypred_proba]), multi_class='ovo', average=None)))\n",
    "    print('Accuracy of the model: {}\\n'.format(accuracy_score(ytest, ypred)))\n",
    "    print('Classification report: \\n{}\\n'.format(classification_report(ytest, ypred)))\n",
    "    print('Confusion matrix: \\n{}\\n'.format(confusion_matrix(ytest, ypred)))"
   ]
  },
  {
   "cell_type": "code",
   "execution_count": null,
   "metadata": {},
   "outputs": [
    {
     "name": "stdout",
     "output_type": "stream",
     "text": [
      "Accuracy of the model: 0.9666666666666667\n",
      "\n",
      "Classification report: \n",
      "              precision    recall  f1-score   support\n",
      "\n",
      "      Setosa       1.00      1.00      1.00        10\n",
      "  Versicolor       0.91      1.00      0.95        10\n",
      "   Virginica       1.00      0.90      0.95        10\n",
      "\n",
      "    accuracy                           0.97        30\n",
      "   macro avg       0.97      0.97      0.97        30\n",
      "weighted avg       0.97      0.97      0.97        30\n",
      "\n",
      "\n",
      "Confusion matrix: \n",
      "[[10  0  0]\n",
      " [ 0 10  0]\n",
      " [ 0  1  9]]\n",
      "\n",
      "time: 9.51 ms (started: 2022-06-04 17:59:43 +02:00)\n"
     ]
    }
   ],
   "source": [
    "ypred = model.predict(xtest)\n",
    "evaluate_model(ytest,ypred)"
   ]
  },
  {
   "cell_type": "markdown",
   "metadata": {},
   "source": [
    "### Datos Sintéticos"
   ]
  },
  {
   "cell_type": "code",
   "execution_count": null,
   "metadata": {},
   "outputs": [
    {
     "name": "stdout",
     "output_type": "stream",
     "text": [
      "Accuracy of the model: 0.5666666666666667\n",
      "\n",
      "Classification report: \n",
      "              precision    recall  f1-score   support\n",
      "\n",
      "      Setosa       1.00      0.90      0.95        10\n",
      "  Versicolor       0.36      0.40      0.38        10\n",
      "   Virginica       0.40      0.40      0.40        10\n",
      "\n",
      "    accuracy                           0.57        30\n",
      "   macro avg       0.59      0.57      0.58        30\n",
      "weighted avg       0.59      0.57      0.58        30\n",
      "\n",
      "\n",
      "Confusion matrix: \n",
      "[[9 1 0]\n",
      " [0 4 6]\n",
      " [0 6 4]]\n",
      "\n",
      "None ------------- synthetic_data_gc -------------  \n",
      "Accuracy of the model: 0.43333333333333335\n",
      "\n",
      "Classification report: \n",
      "              precision    recall  f1-score   support\n",
      "\n",
      "      Setosa       0.40      0.40      0.40        10\n",
      "  Versicolor       0.36      0.40      0.38        10\n",
      "   Virginica       0.56      0.50      0.53        10\n",
      "\n",
      "    accuracy                           0.43        30\n",
      "   macro avg       0.44      0.43      0.44        30\n",
      "weighted avg       0.44      0.43      0.44        30\n",
      "\n",
      "\n",
      "Confusion matrix: \n",
      "[[4 2 4]\n",
      " [6 4 0]\n",
      " [0 5 5]]\n",
      "\n",
      "None ------------- synthetic_data_ctgan -------------  \n",
      "Accuracy of the model: 0.5666666666666667\n",
      "\n",
      "Classification report: \n",
      "              precision    recall  f1-score   support\n",
      "\n",
      "      Setosa       0.50      0.20      0.29        10\n",
      "  Versicolor       0.64      0.90      0.75        10\n",
      "   Virginica       0.50      0.60      0.55        10\n",
      "\n",
      "    accuracy                           0.57        30\n",
      "   macro avg       0.55      0.57      0.53        30\n",
      "weighted avg       0.55      0.57      0.53        30\n",
      "\n",
      "\n",
      "Confusion matrix: \n",
      "[[2 3 5]\n",
      " [0 9 1]\n",
      " [2 2 6]]\n",
      "\n",
      "None ------------- synthetic_data_copgan -------------  \n",
      "Accuracy of the model: 0.9333333333333333\n",
      "\n",
      "Classification report: \n",
      "              precision    recall  f1-score   support\n",
      "\n",
      "      Setosa       1.00      1.00      1.00        10\n",
      "  Versicolor       1.00      0.80      0.89        10\n",
      "   Virginica       0.83      1.00      0.91        10\n",
      "\n",
      "    accuracy                           0.93        30\n",
      "   macro avg       0.94      0.93      0.93        30\n",
      "weighted avg       0.94      0.93      0.93        30\n",
      "\n",
      "\n",
      "Confusion matrix: \n",
      "[[10  0  0]\n",
      " [ 0  8  2]\n",
      " [ 0  0 10]]\n",
      "\n",
      "None ------------- synthetic_data_tvae -------------  \n",
      "Accuracy of the model: 0.9666666666666667\n",
      "\n",
      "Classification report: \n",
      "              precision    recall  f1-score   support\n",
      "\n",
      "      Setosa       1.00      1.00      1.00        10\n",
      "  Versicolor       0.91      1.00      0.95        10\n",
      "   Virginica       1.00      0.90      0.95        10\n",
      "\n",
      "    accuracy                           0.97        30\n",
      "   macro avg       0.97      0.97      0.97        30\n",
      "weighted avg       0.97      0.97      0.97        30\n",
      "\n",
      "\n",
      "Confusion matrix: \n",
      "[[10  0  0]\n",
      " [ 0 10  0]\n",
      " [ 0  1  9]]\n",
      "\n",
      "None ------------- synthetic_data_fpca -------------  \n",
      "Accuracy of the model: 0.7333333333333333\n",
      "\n",
      "Classification report: \n",
      "              precision    recall  f1-score   support\n",
      "\n",
      "      Setosa       0.91      1.00      0.95        10\n",
      "  Versicolor       0.60      0.60      0.60        10\n",
      "   Virginica       0.67      0.60      0.63        10\n",
      "\n",
      "    accuracy                           0.73        30\n",
      "   macro avg       0.73      0.73      0.73        30\n",
      "weighted avg       0.73      0.73      0.73        30\n",
      "\n",
      "\n",
      "Confusion matrix: \n",
      "[[10  0  0]\n",
      " [ 1  6  3]\n",
      " [ 0  4  6]]\n",
      "\n",
      "None ------------- synthetic_data_gcs -------------  \n",
      "Accuracy of the model: 0.9\n",
      "\n",
      "Classification report: \n",
      "              precision    recall  f1-score   support\n",
      "\n",
      "      Setosa       0.91      1.00      0.95        10\n",
      "  Versicolor       0.82      0.90      0.86        10\n",
      "   Virginica       1.00      0.80      0.89        10\n",
      "\n",
      "    accuracy                           0.90        30\n",
      "   macro avg       0.91      0.90      0.90        30\n",
      "weighted avg       0.91      0.90      0.90        30\n",
      "\n",
      "\n",
      "Confusion matrix: \n",
      "[[10  0  0]\n",
      " [ 1  9  0]\n",
      " [ 0  2  8]]\n",
      "\n",
      "None ------------- synthetic_data_vc -------------  \n",
      "time: 1.23 s (started: 2022-06-04 17:59:43 +02:00)\n"
     ]
    }
   ],
   "source": [
    "# Bucle para entrenar y evaluar lightgbm sobre todos los datos sintéticos\n",
    "for data in synth_data:\n",
    "    xtrain =  data.drop(columns=['variety']) \n",
    "    ytrain = data['variety']\n",
    "    model.fit(xtrain,ytrain)\n",
    "    ypred = model.predict(xtest)\n",
    "    print(f\"{evaluate_model(ytest,ypred)} ------------- {get_df_name(data)} -------------  \")"
   ]
  },
  {
   "cell_type": "markdown",
   "metadata": {},
   "source": [
    "## Conclusión"
   ]
  },
  {
   "cell_type": "markdown",
   "metadata": {},
   "source": [
    "En este caso, con un dataset sencillo con tan solo 4 variables de tipo numérico los modelos más tradicionales han obtenido un mejor score y generan datos sintéticos de mejor calidad. Esto se puede deber a distintos factore. Principalmente, los datos son insuficientes para que las redes neuronales entrenen de forma efectiva y la distribución de las variables se puede aproximar sin demasiada dificultad por modelos más sencillos. "
   ]
  }
 ],
 "metadata": {
  "interpreter": {
   "hash": "0b2dde700c5006e571fc61bac43f21beefaded0019804e3e2fd3e4bc21fa880d"
  },
  "kernelspec": {
   "display_name": "Python 3.8.12 ('tganto1')",
   "language": "python",
   "name": "python3"
  },
  "language_info": {
   "codemirror_mode": {
    "name": "ipython",
    "version": 3
   },
   "file_extension": ".py",
   "mimetype": "text/x-python",
   "name": "python",
   "nbconvert_exporter": "python",
   "pygments_lexer": "ipython3",
   "version": "3.8.12"
  }
 },
 "nbformat": 4,
 "nbformat_minor": 2
}
