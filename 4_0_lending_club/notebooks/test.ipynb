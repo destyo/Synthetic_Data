{
 "cells": [
  {
   "cell_type": "markdown",
   "metadata": {},
   "source": [
    "### Comparar Score del modelo con:\n",
    "- Modelo sin upsampling\n",
    "- Modelo con upsampling tradicional\n",
    "- Modelo con datos sinteticos sobre toda la muestra\n",
    "- Modelo con datos sintéticod sobre la clase menor"
   ]
  },
  {
   "cell_type": "code",
   "execution_count": 3,
   "metadata": {},
   "outputs": [],
   "source": [
    "import numpy as np\n",
    "import pandas as pd\n",
    "import math\n",
    "import matplotlib.pyplot as plt\n",
    "from matplotlib import pyplot\n",
    "import seaborn as sns"
   ]
  },
  {
   "cell_type": "code",
   "execution_count": 4,
   "metadata": {},
   "outputs": [],
   "source": [
    "df = pd.read_parquet('../data/processed/train.parquet')"
   ]
  }
 ],
 "metadata": {
  "interpreter": {
   "hash": "0b2dde700c5006e571fc61bac43f21beefaded0019804e3e2fd3e4bc21fa880d"
  },
  "kernelspec": {
   "display_name": "Python 3.8.12 ('tganto1')",
   "language": "python",
   "name": "python3"
  },
  "language_info": {
   "codemirror_mode": {
    "name": "ipython",
    "version": 3
   },
   "file_extension": ".py",
   "mimetype": "text/x-python",
   "name": "python",
   "nbconvert_exporter": "python",
   "pygments_lexer": "ipython3",
   "version": "3.8.12"
  },
  "orig_nbformat": 4
 },
 "nbformat": 4,
 "nbformat_minor": 2
}
