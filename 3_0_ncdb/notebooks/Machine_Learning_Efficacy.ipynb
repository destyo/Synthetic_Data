{
 "cells": [
  {
   "cell_type": "markdown",
   "metadata": {},
   "source": [
    "# Eficacia Modelado CTGAN"
   ]
  },
  {
   "cell_type": "code",
   "execution_count": 34,
   "metadata": {},
   "outputs": [
    {
     "name": "stdout",
     "output_type": "stream",
     "text": [
      "The autotime extension is already loaded. To reload it, use:\n",
      "  %reload_ext autotime\n",
      "time: 3.46 ms (started: 2022-06-08 13:15:41 +02:00)\n"
     ]
    }
   ],
   "source": [
    "#Librerias\n",
    "%load_ext autotime\n",
    "import pandas as pd\n",
    "import numpy as np\n",
    "import seaborn as sns \n",
    "import matplotlib.pyplot as plt\n",
    "\n",
    "#Synth\n",
    "from sdv.tabular import CTGAN, GaussianCopula, CopulaGAN, TVAE\n",
    "from sdv.evaluation import evaluate\n",
    "import sdv\n",
    "\n",
    "#ML \n",
    "import pickle\n",
    "from lightgbm import LGBMClassifier\n",
    "from joblib import dump\n",
    "from category_encoders import TargetEncoder\n",
    "from sklearn.preprocessing import OneHotEncoder\n",
    "from sklearn.model_selection import train_test_split\n",
    "from sklearn.preprocessing import StandardScaler\n",
    "from sklearn.impute import SimpleImputer\n",
    "from sklearn.pipeline import Pipeline\n",
    "from sklearn.compose import ColumnTransformer\n",
    "from sklearn.model_selection import GridSearchCV\n",
    "\n",
    "\n",
    "# Import own modules\n",
    "import sys\n",
    "import os\n",
    "sys.path.append(os.path.abspath('..'))\n",
    "sys.path.append(os.path.abspath('../src'))\n",
    "from auxiliar.Constants import field_types, field_transformers\n",
    "from auxiliar.aux_func import evaluate_model, model_analysis\n",
    "#from auxiliar.metadata import metadata, table_metadata\n",
    "\n",
    "import warnings\n",
    "warnings.filterwarnings('ignore')"
   ]
  },
  {
   "cell_type": "code",
   "execution_count": 35,
   "metadata": {
    "collapsed": false,
    "pycharm": {
     "name": "#%%\n"
    }
   },
   "outputs": [
    {
     "name": "stdout",
     "output_type": "stream",
     "text": [
      "time: 2.1 s (started: 2022-06-08 13:15:42 +02:00)\n"
     ]
    }
   ],
   "source": [
    "# Lectura de datos de Train del dataset de accidentes de vehículos\n",
    "df = pd.read_parquet(\"../data/interim/train.parquet\")"
   ]
  },
  {
   "cell_type": "code",
   "execution_count": 4,
   "metadata": {},
   "outputs": [
    {
     "data": {
      "text/html": [
       "<div>\n",
       "<style scoped>\n",
       "    .dataframe tbody tr th:only-of-type {\n",
       "        vertical-align: middle;\n",
       "    }\n",
       "\n",
       "    .dataframe tbody tr th {\n",
       "        vertical-align: top;\n",
       "    }\n",
       "\n",
       "    .dataframe thead th {\n",
       "        text-align: right;\n",
       "    }\n",
       "</style>\n",
       "<table border=\"1\" class=\"dataframe\">\n",
       "  <thead>\n",
       "    <tr style=\"text-align: right;\">\n",
       "      <th></th>\n",
       "      <th>year</th>\n",
       "      <th>quarter</th>\n",
       "      <th>weekday</th>\n",
       "      <th>hour</th>\n",
       "      <th>vehicles_involved</th>\n",
       "      <th>crash_type</th>\n",
       "      <th>crash_place</th>\n",
       "      <th>crash_weather</th>\n",
       "      <th>surface_state</th>\n",
       "      <th>road_slope</th>\n",
       "      <th>traffic_state</th>\n",
       "      <th>vehicle_type</th>\n",
       "      <th>vehicle_age</th>\n",
       "      <th>passenger_sex</th>\n",
       "      <th>passenger_age</th>\n",
       "      <th>passenger_safety</th>\n",
       "      <th>passenger_type</th>\n",
       "      <th>fatality</th>\n",
       "    </tr>\n",
       "    <tr>\n",
       "      <th>index</th>\n",
       "      <th></th>\n",
       "      <th></th>\n",
       "      <th></th>\n",
       "      <th></th>\n",
       "      <th></th>\n",
       "      <th></th>\n",
       "      <th></th>\n",
       "      <th></th>\n",
       "      <th></th>\n",
       "      <th></th>\n",
       "      <th></th>\n",
       "      <th></th>\n",
       "      <th></th>\n",
       "      <th></th>\n",
       "      <th></th>\n",
       "      <th></th>\n",
       "      <th></th>\n",
       "      <th></th>\n",
       "    </tr>\n",
       "  </thead>\n",
       "  <tbody>\n",
       "    <tr>\n",
       "      <th>5402310</th>\n",
       "      <td>2013</td>\n",
       "      <td>3</td>\n",
       "      <td>2</td>\n",
       "      <td>4.0</td>\n",
       "      <td>2.0</td>\n",
       "      <td>21</td>\n",
       "      <td>02</td>\n",
       "      <td>1</td>\n",
       "      <td>1</td>\n",
       "      <td>1</td>\n",
       "      <td>01</td>\n",
       "      <td>01</td>\n",
       "      <td>17.0</td>\n",
       "      <td>0.0</td>\n",
       "      <td>54.0</td>\n",
       "      <td>02</td>\n",
       "      <td>1</td>\n",
       "      <td>0</td>\n",
       "    </tr>\n",
       "    <tr>\n",
       "      <th>2857627</th>\n",
       "      <td>2006</td>\n",
       "      <td>1</td>\n",
       "      <td>1</td>\n",
       "      <td>4.0</td>\n",
       "      <td>2.0</td>\n",
       "      <td>22</td>\n",
       "      <td>02</td>\n",
       "      <td>2</td>\n",
       "      <td>1</td>\n",
       "      <td>1</td>\n",
       "      <td>18</td>\n",
       "      <td>01</td>\n",
       "      <td>17.0</td>\n",
       "      <td>1.0</td>\n",
       "      <td>17.0</td>\n",
       "      <td>None</td>\n",
       "      <td>1</td>\n",
       "      <td>0</td>\n",
       "    </tr>\n",
       "    <tr>\n",
       "      <th>4155689</th>\n",
       "      <td>2009</td>\n",
       "      <td>3</td>\n",
       "      <td>1</td>\n",
       "      <td>4.0</td>\n",
       "      <td>2.0</td>\n",
       "      <td>36</td>\n",
       "      <td>02</td>\n",
       "      <td>1</td>\n",
       "      <td>1</td>\n",
       "      <td>1</td>\n",
       "      <td>01</td>\n",
       "      <td>01</td>\n",
       "      <td>10.0</td>\n",
       "      <td>1.0</td>\n",
       "      <td>31.0</td>\n",
       "      <td>02</td>\n",
       "      <td>1</td>\n",
       "      <td>0</td>\n",
       "    </tr>\n",
       "    <tr>\n",
       "      <th>3254452</th>\n",
       "      <td>2007</td>\n",
       "      <td>1</td>\n",
       "      <td>3</td>\n",
       "      <td>1.0</td>\n",
       "      <td>2.0</td>\n",
       "      <td>31</td>\n",
       "      <td>05</td>\n",
       "      <td>3</td>\n",
       "      <td>2</td>\n",
       "      <td>2</td>\n",
       "      <td>18</td>\n",
       "      <td>01</td>\n",
       "      <td>17.0</td>\n",
       "      <td>1.0</td>\n",
       "      <td>22.0</td>\n",
       "      <td>02</td>\n",
       "      <td>1</td>\n",
       "      <td>0</td>\n",
       "    </tr>\n",
       "    <tr>\n",
       "      <th>581037</th>\n",
       "      <td>2000</td>\n",
       "      <td>2</td>\n",
       "      <td>1</td>\n",
       "      <td>2.0</td>\n",
       "      <td>2.0</td>\n",
       "      <td>QQ</td>\n",
       "      <td>02</td>\n",
       "      <td>1</td>\n",
       "      <td>1</td>\n",
       "      <td>1</td>\n",
       "      <td>03</td>\n",
       "      <td>17</td>\n",
       "      <td>NaN</td>\n",
       "      <td>1.0</td>\n",
       "      <td>10.0</td>\n",
       "      <td>NN</td>\n",
       "      <td>4</td>\n",
       "      <td>0</td>\n",
       "    </tr>\n",
       "  </tbody>\n",
       "</table>\n",
       "</div>"
      ],
      "text/plain": [
       "         year  quarter  weekday  hour  vehicles_involved crash_type  \\\n",
       "index                                                                 \n",
       "5402310  2013        3        2   4.0                2.0         21   \n",
       "2857627  2006        1        1   4.0                2.0         22   \n",
       "4155689  2009        3        1   4.0                2.0         36   \n",
       "3254452  2007        1        3   1.0                2.0         31   \n",
       "581037   2000        2        1   2.0                2.0         QQ   \n",
       "\n",
       "        crash_place crash_weather surface_state road_slope traffic_state  \\\n",
       "index                                                                      \n",
       "5402310          02             1             1          1            01   \n",
       "2857627          02             2             1          1            18   \n",
       "4155689          02             1             1          1            01   \n",
       "3254452          05             3             2          2            18   \n",
       "581037           02             1             1          1            03   \n",
       "\n",
       "        vehicle_type  vehicle_age  passenger_sex  passenger_age  \\\n",
       "index                                                             \n",
       "5402310           01         17.0            0.0           54.0   \n",
       "2857627           01         17.0            1.0           17.0   \n",
       "4155689           01         10.0            1.0           31.0   \n",
       "3254452           01         17.0            1.0           22.0   \n",
       "581037            17          NaN            1.0           10.0   \n",
       "\n",
       "        passenger_safety passenger_type  fatality  \n",
       "index                                              \n",
       "5402310               02              1         0  \n",
       "2857627             None              1         0  \n",
       "4155689               02              1         0  \n",
       "3254452               02              1         0  \n",
       "581037                NN              4         0  "
      ]
     },
     "execution_count": 4,
     "metadata": {},
     "output_type": "execute_result"
    },
    {
     "name": "stdout",
     "output_type": "stream",
     "text": [
      "time: 35.3 ms (started: 2022-06-08 11:44:19 +02:00)\n"
     ]
    }
   ],
   "source": [
    "df.head()"
   ]
  },
  {
   "cell_type": "markdown",
   "metadata": {
    "collapsed": false
   },
   "source": [
    "# Models"
   ]
  },
  {
   "cell_type": "markdown",
   "metadata": {
    "collapsed": false
   },
   "source": [
    "## Gaussian Copula"
   ]
  },
  {
   "cell_type": "code",
   "execution_count": 5,
   "metadata": {
    "collapsed": false,
    "pycharm": {
     "name": "#%%\n"
    }
   },
   "outputs": [
    {
     "name": "stdout",
     "output_type": "stream",
     "text": [
      "time: 7.13 ms (started: 2022-06-08 10:53:01 +02:00)\n"
     ]
    }
   ],
   "source": [
    "# load when already trained\n",
    "gaussian_copula = GaussianCopula.load('../models/gaussian_copula.pkl')"
   ]
  },
  {
   "cell_type": "code",
   "execution_count": 12,
   "metadata": {
    "collapsed": false,
    "pycharm": {
     "name": "#%%\n"
    }
   },
   "outputs": [
    {
     "name": "stderr",
     "output_type": "stream",
     "text": [
      "C:\\Users\\tganto1\\Anaconda3\\envs\\synth_copia\\lib\\site-packages\\sdv\\tabular\\base.py:250: FutureWarning: The frame.append method is deprecated and will be removed from pandas in a future version. Use pandas.concat instead.\n",
      "  sampled = previous_rows.append(sampled, ignore_index=True)\n"
     ]
    },
    {
     "name": "stdout",
     "output_type": "stream",
     "text": [
      "time: 1min 52s\n"
     ]
    }
   ],
   "source": [
    "np.random.seed(2022)\n",
    "synthetic_data_gc = gaussian_copula.sample(len(df))"
   ]
  },
  {
   "cell_type": "code",
   "execution_count": 6,
   "metadata": {
    "collapsed": false,
    "pycharm": {
     "name": "#%%\n"
    }
   },
   "outputs": [
    {
     "data": {
      "text/html": [
       "<div>\n",
       "<style scoped>\n",
       "    .dataframe tbody tr th:only-of-type {\n",
       "        vertical-align: middle;\n",
       "    }\n",
       "\n",
       "    .dataframe tbody tr th {\n",
       "        vertical-align: top;\n",
       "    }\n",
       "\n",
       "    .dataframe thead th {\n",
       "        text-align: right;\n",
       "    }\n",
       "</style>\n",
       "<table border=\"1\" class=\"dataframe\">\n",
       "  <thead>\n",
       "    <tr style=\"text-align: right;\">\n",
       "      <th></th>\n",
       "      <th>year</th>\n",
       "      <th>quarter</th>\n",
       "      <th>weekday</th>\n",
       "      <th>hour</th>\n",
       "      <th>vehicles_involved</th>\n",
       "      <th>crash_type</th>\n",
       "      <th>crash_place</th>\n",
       "      <th>crash_weather</th>\n",
       "      <th>surface_state</th>\n",
       "      <th>road_slope</th>\n",
       "      <th>traffic_state</th>\n",
       "      <th>vehicle_type</th>\n",
       "      <th>vehicle_age</th>\n",
       "      <th>passenger_sex</th>\n",
       "      <th>passenger_age</th>\n",
       "      <th>passenger_safety</th>\n",
       "      <th>passenger_type</th>\n",
       "      <th>fatality</th>\n",
       "    </tr>\n",
       "  </thead>\n",
       "  <tbody>\n",
       "    <tr>\n",
       "      <th>0</th>\n",
       "      <td>2003</td>\n",
       "      <td>2</td>\n",
       "      <td>1</td>\n",
       "      <td>4.0</td>\n",
       "      <td>2.0</td>\n",
       "      <td>33</td>\n",
       "      <td>02</td>\n",
       "      <td>1</td>\n",
       "      <td>1</td>\n",
       "      <td>1</td>\n",
       "      <td>01</td>\n",
       "      <td>01</td>\n",
       "      <td>3.0</td>\n",
       "      <td>1.0</td>\n",
       "      <td>49.0</td>\n",
       "      <td>NN</td>\n",
       "      <td>1</td>\n",
       "      <td>0</td>\n",
       "    </tr>\n",
       "    <tr>\n",
       "      <th>1</th>\n",
       "      <td>2000</td>\n",
       "      <td>4</td>\n",
       "      <td>3</td>\n",
       "      <td>4.0</td>\n",
       "      <td>3.0</td>\n",
       "      <td>QQ</td>\n",
       "      <td>03</td>\n",
       "      <td>2</td>\n",
       "      <td>2</td>\n",
       "      <td>1</td>\n",
       "      <td>18</td>\n",
       "      <td>01</td>\n",
       "      <td>4.0</td>\n",
       "      <td>1.0</td>\n",
       "      <td>57.0</td>\n",
       "      <td>NaN</td>\n",
       "      <td>1</td>\n",
       "      <td>0</td>\n",
       "    </tr>\n",
       "    <tr>\n",
       "      <th>2</th>\n",
       "      <td>2006</td>\n",
       "      <td>4</td>\n",
       "      <td>3</td>\n",
       "      <td>2.0</td>\n",
       "      <td>2.0</td>\n",
       "      <td>35</td>\n",
       "      <td>02</td>\n",
       "      <td>1</td>\n",
       "      <td>2</td>\n",
       "      <td>1</td>\n",
       "      <td>18</td>\n",
       "      <td>01</td>\n",
       "      <td>5.0</td>\n",
       "      <td>0.0</td>\n",
       "      <td>65.0</td>\n",
       "      <td>02</td>\n",
       "      <td>1</td>\n",
       "      <td>0</td>\n",
       "    </tr>\n",
       "    <tr>\n",
       "      <th>3</th>\n",
       "      <td>2005</td>\n",
       "      <td>3</td>\n",
       "      <td>2</td>\n",
       "      <td>2.0</td>\n",
       "      <td>2.0</td>\n",
       "      <td>03</td>\n",
       "      <td>01</td>\n",
       "      <td>1</td>\n",
       "      <td>1</td>\n",
       "      <td>1</td>\n",
       "      <td>18</td>\n",
       "      <td>01</td>\n",
       "      <td>8.0</td>\n",
       "      <td>1.0</td>\n",
       "      <td>27.0</td>\n",
       "      <td>02</td>\n",
       "      <td>1</td>\n",
       "      <td>0</td>\n",
       "    </tr>\n",
       "    <tr>\n",
       "      <th>4</th>\n",
       "      <td>2012</td>\n",
       "      <td>1</td>\n",
       "      <td>1</td>\n",
       "      <td>4.0</td>\n",
       "      <td>2.0</td>\n",
       "      <td>02</td>\n",
       "      <td>01</td>\n",
       "      <td>2</td>\n",
       "      <td>2</td>\n",
       "      <td>1</td>\n",
       "      <td>18</td>\n",
       "      <td>NN</td>\n",
       "      <td>3.0</td>\n",
       "      <td>1.0</td>\n",
       "      <td>33.0</td>\n",
       "      <td>02</td>\n",
       "      <td>1</td>\n",
       "      <td>0</td>\n",
       "    </tr>\n",
       "    <tr>\n",
       "      <th>5</th>\n",
       "      <td>2011</td>\n",
       "      <td>4</td>\n",
       "      <td>3</td>\n",
       "      <td>3.0</td>\n",
       "      <td>2.0</td>\n",
       "      <td>35</td>\n",
       "      <td>01</td>\n",
       "      <td>1</td>\n",
       "      <td>2</td>\n",
       "      <td>1</td>\n",
       "      <td>15</td>\n",
       "      <td>NN</td>\n",
       "      <td>5.0</td>\n",
       "      <td>0.0</td>\n",
       "      <td>40.0</td>\n",
       "      <td>02</td>\n",
       "      <td>1</td>\n",
       "      <td>0</td>\n",
       "    </tr>\n",
       "  </tbody>\n",
       "</table>\n",
       "</div>"
      ],
      "text/plain": [
       "   year  quarter  weekday  hour  vehicles_involved crash_type crash_place  \\\n",
       "0  2003        2        1   4.0                2.0         33          02   \n",
       "1  2000        4        3   4.0                3.0         QQ          03   \n",
       "2  2006        4        3   2.0                2.0         35          02   \n",
       "3  2005        3        2   2.0                2.0         03          01   \n",
       "4  2012        1        1   4.0                2.0         02          01   \n",
       "5  2011        4        3   3.0                2.0         35          01   \n",
       "\n",
       "  crash_weather surface_state road_slope traffic_state vehicle_type  \\\n",
       "0             1             1          1            01           01   \n",
       "1             2             2          1            18           01   \n",
       "2             1             2          1            18           01   \n",
       "3             1             1          1            18           01   \n",
       "4             2             2          1            18           NN   \n",
       "5             1             2          1            15           NN   \n",
       "\n",
       "   vehicle_age  passenger_sex  passenger_age passenger_safety passenger_type  \\\n",
       "0          3.0            1.0           49.0               NN              1   \n",
       "1          4.0            1.0           57.0              NaN              1   \n",
       "2          5.0            0.0           65.0               02              1   \n",
       "3          8.0            1.0           27.0               02              1   \n",
       "4          3.0            1.0           33.0               02              1   \n",
       "5          5.0            0.0           40.0               02              1   \n",
       "\n",
       "   fatality  \n",
       "0         0  \n",
       "1         0  \n",
       "2         0  \n",
       "3         0  \n",
       "4         0  \n",
       "5         0  "
      ]
     },
     "execution_count": 6,
     "metadata": {},
     "output_type": "execute_result"
    },
    {
     "name": "stdout",
     "output_type": "stream",
     "text": [
      "time: 46.3 ms (started: 2022-06-08 10:53:10 +02:00)\n"
     ]
    }
   ],
   "source": [
    "# Ejemplo\n",
    "gaussian_copula.sample(6)"
   ]
  },
  {
   "cell_type": "code",
   "execution_count": 7,
   "metadata": {
    "collapsed": false,
    "pycharm": {
     "name": "#%%\n"
    }
   },
   "outputs": [
    {
     "data": {
      "text/plain": [
       "{'year.value': 'copulas.univariate.truncated_gaussian.TruncatedGaussian',\n",
       " 'quarter.value': 'copulas.univariate.beta.BetaUnivariate',\n",
       " 'weekday.value': 'copulas.univariate.gamma.GammaUnivariate',\n",
       " 'hour.value': 'copulas.univariate.gamma.GammaUnivariate',\n",
       " 'vehicles_involved.value': 'copulas.univariate.log_laplace.LogLaplace',\n",
       " 'vehicles_involved.is_null': 'copulas.univariate.gaussian.GaussianUnivariate',\n",
       " 'crash_type.value': 'copulas.univariate.beta.BetaUnivariate',\n",
       " 'crash_place.value': 'copulas.univariate.gamma.GammaUnivariate',\n",
       " 'crash_weather.value': 'copulas.univariate.gamma.GammaUnivariate',\n",
       " 'surface_state.value': 'copulas.univariate.gamma.GammaUnivariate',\n",
       " 'road_slope.value': 'copulas.univariate.gamma.GammaUnivariate',\n",
       " 'traffic_state.value': 'copulas.univariate.gamma.GammaUnivariate',\n",
       " 'vehicle_type.value': 'copulas.univariate.gamma.GammaUnivariate',\n",
       " 'vehicle_age.value': 'copulas.univariate.student_t.StudentTUnivariate',\n",
       " 'vehicle_age.is_null': 'copulas.univariate.student_t.StudentTUnivariate',\n",
       " 'passenger_sex.value': 'copulas.univariate.gamma.GammaUnivariate',\n",
       " 'passenger_sex.is_null': 'copulas.univariate.gaussian.GaussianUnivariate',\n",
       " 'passenger_age.value': 'copulas.univariate.gamma.GammaUnivariate',\n",
       " 'passenger_age.is_null': 'copulas.univariate.log_laplace.LogLaplace',\n",
       " 'passenger_safety.value': 'copulas.univariate.gamma.GammaUnivariate',\n",
       " 'passenger_type.value': 'copulas.univariate.log_laplace.LogLaplace',\n",
       " 'fatality.value': 'copulas.univariate.gaussian.GaussianUnivariate'}"
      ]
     },
     "execution_count": 7,
     "metadata": {},
     "output_type": "execute_result"
    },
    {
     "name": "stdout",
     "output_type": "stream",
     "text": [
      "time: 4.59 ms (started: 2022-06-08 10:53:14 +02:00)\n"
     ]
    }
   ],
   "source": [
    "# Distribución marginal de cada columna \n",
    "gaussian_copula.get_distributions()"
   ]
  },
  {
   "cell_type": "code",
   "execution_count": 48,
   "metadata": {
    "collapsed": false,
    "pycharm": {
     "name": "#%%\n"
    }
   },
   "outputs": [],
   "source": [
    "gaussian_copula.save('../models/demo/ncdb/gaussian_copula.pkl')"
   ]
  },
  {
   "cell_type": "markdown",
   "metadata": {
    "collapsed": false
   },
   "source": [
    "## CTGAN"
   ]
  },
  {
   "cell_type": "code",
   "execution_count": 5,
   "metadata": {
    "collapsed": false,
    "pycharm": {
     "name": "#%%\n"
    }
   },
   "outputs": [
    {
     "name": "stdout",
     "output_type": "stream",
     "text": [
      "time: 4.03 s (started: 2022-06-08 11:44:23 +02:00)\n"
     ]
    }
   ],
   "source": [
    "ctgan = CTGAN.load('../models/ctgan.pkl')"
   ]
  },
  {
   "cell_type": "code",
   "execution_count": 6,
   "metadata": {
    "pycharm": {
     "name": "#%%\n"
    }
   },
   "outputs": [
    {
     "data": {
      "text/plain": [
       "Table(name=None, field_names=['year', 'quarter', 'weekday', 'hour', 'vehicles_involved', 'crash_type', 'crash_place', 'crash_weather', 'surface_state', 'road_slope', 'traffic_state', 'vehicle_type', 'vehicle_age', 'passenger_sex', 'passenger_age', 'passenger_safety', 'passenger_type', 'fatality'])"
      ]
     },
     "execution_count": 6,
     "metadata": {},
     "output_type": "execute_result"
    },
    {
     "name": "stdout",
     "output_type": "stream",
     "text": [
      "time: 4.41 ms (started: 2022-06-08 11:44:27 +02:00)\n"
     ]
    }
   ],
   "source": [
    "ctgan.get_metadata()"
   ]
  },
  {
   "cell_type": "code",
   "execution_count": null,
   "metadata": {
    "pycharm": {
     "is_executing": true,
     "name": "#%%\n"
    }
   },
   "outputs": [],
   "source": [
    "ctgan.fit(df)"
   ]
  },
  {
   "cell_type": "code",
   "execution_count": 10,
   "metadata": {
    "pycharm": {
     "is_executing": true,
     "name": "#%%\n"
    }
   },
   "outputs": [
    {
     "data": {
      "text/html": [
       "<div>\n",
       "<style scoped>\n",
       "    .dataframe tbody tr th:only-of-type {\n",
       "        vertical-align: middle;\n",
       "    }\n",
       "\n",
       "    .dataframe tbody tr th {\n",
       "        vertical-align: top;\n",
       "    }\n",
       "\n",
       "    .dataframe thead th {\n",
       "        text-align: right;\n",
       "    }\n",
       "</style>\n",
       "<table border=\"1\" class=\"dataframe\">\n",
       "  <thead>\n",
       "    <tr style=\"text-align: right;\">\n",
       "      <th></th>\n",
       "      <th>year</th>\n",
       "      <th>quarter</th>\n",
       "      <th>weekday</th>\n",
       "      <th>hour</th>\n",
       "      <th>vehicles_involved</th>\n",
       "      <th>crash_type</th>\n",
       "      <th>crash_place</th>\n",
       "      <th>crash_weather</th>\n",
       "      <th>surface_state</th>\n",
       "      <th>road_slope</th>\n",
       "      <th>traffic_state</th>\n",
       "      <th>vehicle_type</th>\n",
       "      <th>vehicle_age</th>\n",
       "      <th>passenger_sex</th>\n",
       "      <th>passenger_age</th>\n",
       "      <th>passenger_safety</th>\n",
       "      <th>passenger_type</th>\n",
       "      <th>fatality</th>\n",
       "    </tr>\n",
       "  </thead>\n",
       "  <tbody>\n",
       "    <tr>\n",
       "      <th>0</th>\n",
       "      <td>2006</td>\n",
       "      <td>1</td>\n",
       "      <td>2</td>\n",
       "      <td>4.0</td>\n",
       "      <td>1.0</td>\n",
       "      <td>06</td>\n",
       "      <td>03</td>\n",
       "      <td>1</td>\n",
       "      <td>5</td>\n",
       "      <td>4</td>\n",
       "      <td>18</td>\n",
       "      <td>01</td>\n",
       "      <td>NaN</td>\n",
       "      <td>1.0</td>\n",
       "      <td>67.0</td>\n",
       "      <td>NaN</td>\n",
       "      <td>1</td>\n",
       "      <td>0</td>\n",
       "    </tr>\n",
       "    <tr>\n",
       "      <th>1</th>\n",
       "      <td>2000</td>\n",
       "      <td>2</td>\n",
       "      <td>1</td>\n",
       "      <td>2.0</td>\n",
       "      <td>2.0</td>\n",
       "      <td>35</td>\n",
       "      <td>09</td>\n",
       "      <td>1</td>\n",
       "      <td>1</td>\n",
       "      <td>1</td>\n",
       "      <td>18</td>\n",
       "      <td>06</td>\n",
       "      <td>2.0</td>\n",
       "      <td>1.0</td>\n",
       "      <td>22.0</td>\n",
       "      <td>NN</td>\n",
       "      <td>5</td>\n",
       "      <td>0</td>\n",
       "    </tr>\n",
       "    <tr>\n",
       "      <th>2</th>\n",
       "      <td>2004</td>\n",
       "      <td>2</td>\n",
       "      <td>2</td>\n",
       "      <td>2.0</td>\n",
       "      <td>3.0</td>\n",
       "      <td>35</td>\n",
       "      <td>02</td>\n",
       "      <td>1</td>\n",
       "      <td>1</td>\n",
       "      <td>1</td>\n",
       "      <td>03</td>\n",
       "      <td>01</td>\n",
       "      <td>0.0</td>\n",
       "      <td>1.0</td>\n",
       "      <td>44.0</td>\n",
       "      <td>02</td>\n",
       "      <td>1</td>\n",
       "      <td>0</td>\n",
       "    </tr>\n",
       "    <tr>\n",
       "      <th>3</th>\n",
       "      <td>2011</td>\n",
       "      <td>3</td>\n",
       "      <td>2</td>\n",
       "      <td>3.0</td>\n",
       "      <td>2.0</td>\n",
       "      <td>33</td>\n",
       "      <td>02</td>\n",
       "      <td>2</td>\n",
       "      <td>1</td>\n",
       "      <td>1</td>\n",
       "      <td>01</td>\n",
       "      <td>01</td>\n",
       "      <td>2.0</td>\n",
       "      <td>0.0</td>\n",
       "      <td>NaN</td>\n",
       "      <td>NN</td>\n",
       "      <td>1</td>\n",
       "      <td>0</td>\n",
       "    </tr>\n",
       "    <tr>\n",
       "      <th>4</th>\n",
       "      <td>2000</td>\n",
       "      <td>4</td>\n",
       "      <td>2</td>\n",
       "      <td>5.0</td>\n",
       "      <td>2.0</td>\n",
       "      <td>31</td>\n",
       "      <td>01</td>\n",
       "      <td>2</td>\n",
       "      <td>5</td>\n",
       "      <td>4</td>\n",
       "      <td>18</td>\n",
       "      <td>07</td>\n",
       "      <td>-0.0</td>\n",
       "      <td>1.0</td>\n",
       "      <td>57.0</td>\n",
       "      <td>NaN</td>\n",
       "      <td>1</td>\n",
       "      <td>1</td>\n",
       "    </tr>\n",
       "    <tr>\n",
       "      <th>5</th>\n",
       "      <td>2000</td>\n",
       "      <td>3</td>\n",
       "      <td>1</td>\n",
       "      <td>4.0</td>\n",
       "      <td>NaN</td>\n",
       "      <td>QQ</td>\n",
       "      <td>02</td>\n",
       "      <td>1</td>\n",
       "      <td>2</td>\n",
       "      <td>1</td>\n",
       "      <td>01</td>\n",
       "      <td>06</td>\n",
       "      <td>NaN</td>\n",
       "      <td>0.0</td>\n",
       "      <td>25.0</td>\n",
       "      <td>NN</td>\n",
       "      <td>3</td>\n",
       "      <td>0</td>\n",
       "    </tr>\n",
       "  </tbody>\n",
       "</table>\n",
       "</div>"
      ],
      "text/plain": [
       "   year  quarter  weekday  hour  vehicles_involved crash_type crash_place  \\\n",
       "0  2006        1        2   4.0                1.0         06          03   \n",
       "1  2000        2        1   2.0                2.0         35          09   \n",
       "2  2004        2        2   2.0                3.0         35          02   \n",
       "3  2011        3        2   3.0                2.0         33          02   \n",
       "4  2000        4        2   5.0                2.0         31          01   \n",
       "5  2000        3        1   4.0                NaN         QQ          02   \n",
       "\n",
       "  crash_weather surface_state road_slope traffic_state vehicle_type  \\\n",
       "0             1             5          4            18           01   \n",
       "1             1             1          1            18           06   \n",
       "2             1             1          1            03           01   \n",
       "3             2             1          1            01           01   \n",
       "4             2             5          4            18           07   \n",
       "5             1             2          1            01           06   \n",
       "\n",
       "   vehicle_age  passenger_sex  passenger_age passenger_safety passenger_type  \\\n",
       "0          NaN            1.0           67.0              NaN              1   \n",
       "1          2.0            1.0           22.0               NN              5   \n",
       "2          0.0            1.0           44.0               02              1   \n",
       "3          2.0            0.0            NaN               NN              1   \n",
       "4         -0.0            1.0           57.0              NaN              1   \n",
       "5          NaN            0.0           25.0               NN              3   \n",
       "\n",
       "   fatality  \n",
       "0         0  \n",
       "1         0  \n",
       "2         0  \n",
       "3         0  \n",
       "4         1  \n",
       "5         0  "
      ]
     },
     "execution_count": 10,
     "metadata": {},
     "output_type": "execute_result"
    },
    {
     "name": "stdout",
     "output_type": "stream",
     "text": [
      "time: 2.75 s (started: 2022-06-08 10:54:28 +02:00)\n"
     ]
    }
   ],
   "source": [
    "#Ejemplo \n",
    "ctgan.sample(6)"
   ]
  },
  {
   "cell_type": "code",
   "execution_count": null,
   "metadata": {},
   "outputs": [],
   "source": [
    "np.random.seed(2022)\n",
    "#synthetic_data_ctgan = ctgan.sample(2*len(df))"
   ]
  },
  {
   "cell_type": "code",
   "execution_count": 36,
   "metadata": {},
   "outputs": [
    {
     "name": "stdout",
     "output_type": "stream",
     "text": [
      "time: 5.3 s (started: 2022-06-08 13:15:53 +02:00)\n"
     ]
    }
   ],
   "source": [
    "synthetic_data_ctgan = pd.read_parquet('../data/synth/synth_ctgan.parquet')"
   ]
  },
  {
   "cell_type": "markdown",
   "metadata": {
    "collapsed": false
   },
   "source": [
    "# Comparing \n",
    "\n"
   ]
  },
  {
   "cell_type": "code",
   "execution_count": 15,
   "metadata": {},
   "outputs": [
    {
     "data": {
      "text/html": [
       "<div>\n",
       "<style scoped>\n",
       "    .dataframe tbody tr th:only-of-type {\n",
       "        vertical-align: middle;\n",
       "    }\n",
       "\n",
       "    .dataframe tbody tr th {\n",
       "        vertical-align: top;\n",
       "    }\n",
       "\n",
       "    .dataframe thead th {\n",
       "        text-align: right;\n",
       "    }\n",
       "</style>\n",
       "<table border=\"1\" class=\"dataframe\">\n",
       "  <thead>\n",
       "    <tr style=\"text-align: right;\">\n",
       "      <th></th>\n",
       "      <th>year</th>\n",
       "      <th>quarter</th>\n",
       "      <th>weekday</th>\n",
       "      <th>hour</th>\n",
       "      <th>vehicles_involved</th>\n",
       "      <th>vehicle_age</th>\n",
       "      <th>passenger_sex</th>\n",
       "      <th>passenger_age</th>\n",
       "      <th>fatality</th>\n",
       "    </tr>\n",
       "  </thead>\n",
       "  <tbody>\n",
       "    <tr>\n",
       "      <th>count</th>\n",
       "      <td>6.609942e+06</td>\n",
       "      <td>6.609942e+06</td>\n",
       "      <td>6.609942e+06</td>\n",
       "      <td>6.479725e+06</td>\n",
       "      <td>6.416815e+06</td>\n",
       "      <td>4.906963e+06</td>\n",
       "      <td>5.875115e+06</td>\n",
       "      <td>5.682463e+06</td>\n",
       "      <td>6.609942e+06</td>\n",
       "    </tr>\n",
       "    <tr>\n",
       "      <th>mean</th>\n",
       "      <td>2.005785e+03</td>\n",
       "      <td>2.565438e+00</td>\n",
       "      <td>1.913954e+00</td>\n",
       "      <td>3.723200e+00</td>\n",
       "      <td>1.959862e+00</td>\n",
       "      <td>7.072005e+00</td>\n",
       "      <td>6.411190e-01</td>\n",
       "      <td>3.808610e+01</td>\n",
       "      <td>4.371234e-02</td>\n",
       "    </tr>\n",
       "    <tr>\n",
       "      <th>std</th>\n",
       "      <td>4.435272e+00</td>\n",
       "      <td>1.082426e+00</td>\n",
       "      <td>7.546793e-01</td>\n",
       "      <td>1.172324e+00</td>\n",
       "      <td>7.759278e-01</td>\n",
       "      <td>5.206116e+00</td>\n",
       "      <td>4.796722e-01</td>\n",
       "      <td>1.581797e+01</td>\n",
       "      <td>2.044543e-01</td>\n",
       "    </tr>\n",
       "    <tr>\n",
       "      <th>min</th>\n",
       "      <td>1.999000e+03</td>\n",
       "      <td>1.000000e+00</td>\n",
       "      <td>1.000000e+00</td>\n",
       "      <td>1.000000e+00</td>\n",
       "      <td>1.000000e+00</td>\n",
       "      <td>-1.000000e+00</td>\n",
       "      <td>0.000000e+00</td>\n",
       "      <td>1.000000e+00</td>\n",
       "      <td>0.000000e+00</td>\n",
       "    </tr>\n",
       "    <tr>\n",
       "      <th>25%</th>\n",
       "      <td>2.002000e+03</td>\n",
       "      <td>2.000000e+00</td>\n",
       "      <td>1.000000e+00</td>\n",
       "      <td>3.000000e+00</td>\n",
       "      <td>1.000000e+00</td>\n",
       "      <td>3.000000e+00</td>\n",
       "      <td>0.000000e+00</td>\n",
       "      <td>2.400000e+01</td>\n",
       "      <td>0.000000e+00</td>\n",
       "    </tr>\n",
       "    <tr>\n",
       "      <th>50%</th>\n",
       "      <td>2.005000e+03</td>\n",
       "      <td>3.000000e+00</td>\n",
       "      <td>2.000000e+00</td>\n",
       "      <td>4.000000e+00</td>\n",
       "      <td>2.000000e+00</td>\n",
       "      <td>7.000000e+00</td>\n",
       "      <td>1.000000e+00</td>\n",
       "      <td>3.700000e+01</td>\n",
       "      <td>0.000000e+00</td>\n",
       "    </tr>\n",
       "    <tr>\n",
       "      <th>75%</th>\n",
       "      <td>2.009000e+03</td>\n",
       "      <td>3.000000e+00</td>\n",
       "      <td>2.000000e+00</td>\n",
       "      <td>4.000000e+00</td>\n",
       "      <td>2.000000e+00</td>\n",
       "      <td>1.100000e+01</td>\n",
       "      <td>1.000000e+00</td>\n",
       "      <td>4.900000e+01</td>\n",
       "      <td>0.000000e+00</td>\n",
       "    </tr>\n",
       "    <tr>\n",
       "      <th>max</th>\n",
       "      <td>2.014000e+03</td>\n",
       "      <td>4.000000e+00</td>\n",
       "      <td>3.000000e+00</td>\n",
       "      <td>6.000000e+00</td>\n",
       "      <td>5.000000e+00</td>\n",
       "      <td>3.700000e+01</td>\n",
       "      <td>1.000000e+00</td>\n",
       "      <td>8.900000e+01</td>\n",
       "      <td>1.000000e+00</td>\n",
       "    </tr>\n",
       "  </tbody>\n",
       "</table>\n",
       "</div>"
      ],
      "text/plain": [
       "               year       quarter       weekday          hour  \\\n",
       "count  6.609942e+06  6.609942e+06  6.609942e+06  6.479725e+06   \n",
       "mean   2.005785e+03  2.565438e+00  1.913954e+00  3.723200e+00   \n",
       "std    4.435272e+00  1.082426e+00  7.546793e-01  1.172324e+00   \n",
       "min    1.999000e+03  1.000000e+00  1.000000e+00  1.000000e+00   \n",
       "25%    2.002000e+03  2.000000e+00  1.000000e+00  3.000000e+00   \n",
       "50%    2.005000e+03  3.000000e+00  2.000000e+00  4.000000e+00   \n",
       "75%    2.009000e+03  3.000000e+00  2.000000e+00  4.000000e+00   \n",
       "max    2.014000e+03  4.000000e+00  3.000000e+00  6.000000e+00   \n",
       "\n",
       "       vehicles_involved   vehicle_age  passenger_sex  passenger_age  \\\n",
       "count       6.416815e+06  4.906963e+06   5.875115e+06   5.682463e+06   \n",
       "mean        1.959862e+00  7.072005e+00   6.411190e-01   3.808610e+01   \n",
       "std         7.759278e-01  5.206116e+00   4.796722e-01   1.581797e+01   \n",
       "min         1.000000e+00 -1.000000e+00   0.000000e+00   1.000000e+00   \n",
       "25%         1.000000e+00  3.000000e+00   0.000000e+00   2.400000e+01   \n",
       "50%         2.000000e+00  7.000000e+00   1.000000e+00   3.700000e+01   \n",
       "75%         2.000000e+00  1.100000e+01   1.000000e+00   4.900000e+01   \n",
       "max         5.000000e+00  3.700000e+01   1.000000e+00   8.900000e+01   \n",
       "\n",
       "           fatality  \n",
       "count  6.609942e+06  \n",
       "mean   4.371234e-02  \n",
       "std    2.044543e-01  \n",
       "min    0.000000e+00  \n",
       "25%    0.000000e+00  \n",
       "50%    0.000000e+00  \n",
       "75%    0.000000e+00  \n",
       "max    1.000000e+00  "
      ]
     },
     "execution_count": 15,
     "metadata": {},
     "output_type": "execute_result"
    },
    {
     "name": "stdout",
     "output_type": "stream",
     "text": [
      "time: 1.11 s (started: 2022-06-08 10:58:53 +02:00)\n"
     ]
    }
   ],
   "source": [
    "synthetic_data_ctgan.describe()"
   ]
  },
  {
   "cell_type": "code",
   "execution_count": 16,
   "metadata": {},
   "outputs": [
    {
     "data": {
      "text/html": [
       "<div>\n",
       "<style scoped>\n",
       "    .dataframe tbody tr th:only-of-type {\n",
       "        vertical-align: middle;\n",
       "    }\n",
       "\n",
       "    .dataframe tbody tr th {\n",
       "        vertical-align: top;\n",
       "    }\n",
       "\n",
       "    .dataframe thead th {\n",
       "        text-align: right;\n",
       "    }\n",
       "</style>\n",
       "<table border=\"1\" class=\"dataframe\">\n",
       "  <thead>\n",
       "    <tr style=\"text-align: right;\">\n",
       "      <th></th>\n",
       "      <th>year</th>\n",
       "      <th>quarter</th>\n",
       "      <th>weekday</th>\n",
       "      <th>hour</th>\n",
       "      <th>vehicles_involved</th>\n",
       "      <th>vehicle_age</th>\n",
       "      <th>passenger_sex</th>\n",
       "      <th>passenger_age</th>\n",
       "      <th>fatality</th>\n",
       "    </tr>\n",
       "  </thead>\n",
       "  <tbody>\n",
       "    <tr>\n",
       "      <th>count</th>\n",
       "      <td>3.304971e+06</td>\n",
       "      <td>3.304971e+06</td>\n",
       "      <td>3.304971e+06</td>\n",
       "      <td>3.270634e+06</td>\n",
       "      <td>3.304739e+06</td>\n",
       "      <td>2.900251e+06</td>\n",
       "      <td>3.179616e+06</td>\n",
       "      <td>3.132552e+06</td>\n",
       "      <td>3.304971e+06</td>\n",
       "    </tr>\n",
       "    <tr>\n",
       "      <th>mean</th>\n",
       "      <td>2.006017e+03</td>\n",
       "      <td>2.566563e+00</td>\n",
       "      <td>1.944328e+00</td>\n",
       "      <td>3.696683e+00</td>\n",
       "      <td>2.045508e+00</td>\n",
       "      <td>7.487625e+00</td>\n",
       "      <td>6.186615e-01</td>\n",
       "      <td>3.941411e+01</td>\n",
       "      <td>1.534900e-02</td>\n",
       "    </tr>\n",
       "    <tr>\n",
       "      <th>std</th>\n",
       "      <td>4.569284e+00</td>\n",
       "      <td>1.113233e+00</td>\n",
       "      <td>7.292272e-01</td>\n",
       "      <td>1.151916e+00</td>\n",
       "      <td>1.292087e+00</td>\n",
       "      <td>5.513476e+00</td>\n",
       "      <td>4.857155e-01</td>\n",
       "      <td>1.675986e+01</td>\n",
       "      <td>1.229366e-01</td>\n",
       "    </tr>\n",
       "    <tr>\n",
       "      <th>min</th>\n",
       "      <td>1.999000e+03</td>\n",
       "      <td>1.000000e+00</td>\n",
       "      <td>1.000000e+00</td>\n",
       "      <td>1.000000e+00</td>\n",
       "      <td>1.000000e+00</td>\n",
       "      <td>-2.000000e+00</td>\n",
       "      <td>0.000000e+00</td>\n",
       "      <td>1.000000e+00</td>\n",
       "      <td>0.000000e+00</td>\n",
       "    </tr>\n",
       "    <tr>\n",
       "      <th>25%</th>\n",
       "      <td>2.002000e+03</td>\n",
       "      <td>2.000000e+00</td>\n",
       "      <td>1.000000e+00</td>\n",
       "      <td>3.000000e+00</td>\n",
       "      <td>2.000000e+00</td>\n",
       "      <td>3.000000e+00</td>\n",
       "      <td>0.000000e+00</td>\n",
       "      <td>2.500000e+01</td>\n",
       "      <td>0.000000e+00</td>\n",
       "    </tr>\n",
       "    <tr>\n",
       "      <th>50%</th>\n",
       "      <td>2.006000e+03</td>\n",
       "      <td>3.000000e+00</td>\n",
       "      <td>2.000000e+00</td>\n",
       "      <td>4.000000e+00</td>\n",
       "      <td>2.000000e+00</td>\n",
       "      <td>7.000000e+00</td>\n",
       "      <td>1.000000e+00</td>\n",
       "      <td>3.800000e+01</td>\n",
       "      <td>0.000000e+00</td>\n",
       "    </tr>\n",
       "    <tr>\n",
       "      <th>75%</th>\n",
       "      <td>2.010000e+03</td>\n",
       "      <td>4.000000e+00</td>\n",
       "      <td>2.000000e+00</td>\n",
       "      <td>4.000000e+00</td>\n",
       "      <td>2.000000e+00</td>\n",
       "      <td>1.100000e+01</td>\n",
       "      <td>1.000000e+00</td>\n",
       "      <td>5.100000e+01</td>\n",
       "      <td>0.000000e+00</td>\n",
       "    </tr>\n",
       "    <tr>\n",
       "      <th>max</th>\n",
       "      <td>2.014000e+03</td>\n",
       "      <td>4.000000e+00</td>\n",
       "      <td>3.000000e+00</td>\n",
       "      <td>6.000000e+00</td>\n",
       "      <td>7.700000e+01</td>\n",
       "      <td>1.030000e+02</td>\n",
       "      <td>1.000000e+00</td>\n",
       "      <td>9.900000e+01</td>\n",
       "      <td>1.000000e+00</td>\n",
       "    </tr>\n",
       "  </tbody>\n",
       "</table>\n",
       "</div>"
      ],
      "text/plain": [
       "               year       quarter       weekday          hour  \\\n",
       "count  3.304971e+06  3.304971e+06  3.304971e+06  3.270634e+06   \n",
       "mean   2.006017e+03  2.566563e+00  1.944328e+00  3.696683e+00   \n",
       "std    4.569284e+00  1.113233e+00  7.292272e-01  1.151916e+00   \n",
       "min    1.999000e+03  1.000000e+00  1.000000e+00  1.000000e+00   \n",
       "25%    2.002000e+03  2.000000e+00  1.000000e+00  3.000000e+00   \n",
       "50%    2.006000e+03  3.000000e+00  2.000000e+00  4.000000e+00   \n",
       "75%    2.010000e+03  4.000000e+00  2.000000e+00  4.000000e+00   \n",
       "max    2.014000e+03  4.000000e+00  3.000000e+00  6.000000e+00   \n",
       "\n",
       "       vehicles_involved   vehicle_age  passenger_sex  passenger_age  \\\n",
       "count       3.304739e+06  2.900251e+06   3.179616e+06   3.132552e+06   \n",
       "mean        2.045508e+00  7.487625e+00   6.186615e-01   3.941411e+01   \n",
       "std         1.292087e+00  5.513476e+00   4.857155e-01   1.675986e+01   \n",
       "min         1.000000e+00 -2.000000e+00   0.000000e+00   1.000000e+00   \n",
       "25%         2.000000e+00  3.000000e+00   0.000000e+00   2.500000e+01   \n",
       "50%         2.000000e+00  7.000000e+00   1.000000e+00   3.800000e+01   \n",
       "75%         2.000000e+00  1.100000e+01   1.000000e+00   5.100000e+01   \n",
       "max         7.700000e+01  1.030000e+02   1.000000e+00   9.900000e+01   \n",
       "\n",
       "           fatality  \n",
       "count  3.304971e+06  \n",
       "mean   1.534900e-02  \n",
       "std    1.229366e-01  \n",
       "min    0.000000e+00  \n",
       "25%    0.000000e+00  \n",
       "50%    0.000000e+00  \n",
       "75%    0.000000e+00  \n",
       "max    1.000000e+00  "
      ]
     },
     "execution_count": 16,
     "metadata": {},
     "output_type": "execute_result"
    },
    {
     "name": "stdout",
     "output_type": "stream",
     "text": [
      "time: 557 ms (started: 2022-06-08 10:58:55 +02:00)\n"
     ]
    }
   ],
   "source": [
    "df.describe()"
   ]
  },
  {
   "cell_type": "markdown",
   "metadata": {},
   "source": [
    "## Eficacia para Modelado"
   ]
  },
  {
   "cell_type": "markdown",
   "metadata": {},
   "source": [
    "### Entreno"
   ]
  },
  {
   "cell_type": "code",
   "execution_count": 37,
   "metadata": {},
   "outputs": [
    {
     "name": "stdout",
     "output_type": "stream",
     "text": [
      "time: 1.52 s (started: 2022-06-08 13:16:15 +02:00)\n"
     ]
    }
   ],
   "source": [
    "xtrain_ctgan =  synthetic_data_ctgan.drop(columns=['fatality']) \n",
    "ytrain_ctgan = synthetic_data_ctgan['fatality']"
   ]
  },
  {
   "cell_type": "code",
   "execution_count": 9,
   "metadata": {},
   "outputs": [
    {
     "name": "stdout",
     "output_type": "stream",
     "text": [
      "Few Cat :['quarter', 'weekday', 'vehicles_involved', 'passenger_sex', 'passenger_type']\n",
      "Many Cat :['crash_type', 'crash_place', 'crash_weather', 'surface_state', 'road_slope', 'traffic_state', 'vehicle_type', 'passenger_safety']\n",
      "Numeirc :['vehicle_age', 'passenger_age', 'vehicles_involved', 'year']\n",
      "time: 5.87 s (started: 2022-06-08 11:44:56 +02:00)\n"
     ]
    }
   ],
   "source": [
    "#Clasificación columnas\n",
    "few_cat = []\n",
    "for column in xtrain_ctgan.columns:\n",
    "    if (len(xtrain_ctgan[column].unique())< 7):\n",
    "        few_cat.append(column)\n",
    "\n",
    "\n",
    "\n",
    "# Categoricas grandes para ME\n",
    "many_cat = []\n",
    "for column in xtrain_ctgan.columns[xtrain_ctgan.dtypes=='object']:\n",
    "    if (len(xtrain_ctgan[column].unique()) > 7):\n",
    "        many_cat.append(column)\n",
    "\n",
    "# numericas\n",
    "numeric = ['vehicle_age', 'passenger_age', 'vehicles_involved', 'year']\n",
    "\n",
    "print(f\"Few Cat :{few_cat}\")\n",
    "print(f\"Many Cat :{many_cat}\")\n",
    "print(f\"Numeirc :{numeric}\")"
   ]
  },
  {
   "cell_type": "code",
   "execution_count": 10,
   "metadata": {},
   "outputs": [
    {
     "name": "stdout",
     "output_type": "stream",
     "text": [
      "time: 1.95 ms (started: 2022-06-08 11:45:02 +02:00)\n"
     ]
    }
   ],
   "source": [
    "#Pipelines    \n",
    "numeric_transformer = Pipeline(steps=[\n",
    "    ('imputer', SimpleImputer(strategy='median')),\n",
    "    ('scaler', StandardScaler())])\n",
    "\n",
    "\n",
    "onehot_transformer = Pipeline(steps=[\n",
    "    ('imputer', SimpleImputer(strategy='constant', fill_value=np.nan)),\n",
    "    ('onehot', OneHotEncoder(handle_unknown='ignore'))])\n",
    "\n",
    "categorical_transformer = Pipeline(steps=[\n",
    "    ('imputer', SimpleImputer(strategy='constant', fill_value='missing')),\n",
    "    ('target', TargetEncoder(handle_unknown='ignore'))])\n",
    "\n",
    "\n",
    "preprocessor = ColumnTransformer(\n",
    "    transformers=[\n",
    "        ('num', numeric_transformer, numeric),\n",
    "        ('fcat', onehot_transformer, few_cat),\n",
    "        ('mcat', categorical_transformer, many_cat)])"
   ]
  },
  {
   "cell_type": "code",
   "execution_count": 17,
   "metadata": {},
   "outputs": [
    {
     "name": "stdout",
     "output_type": "stream",
     "text": [
      "done!\n",
      "time: 33min 24s (started: 2022-06-08 12:01:11 +02:00)\n"
     ]
    }
   ],
   "source": [
    "# Models training\n",
    "lightgbm = Pipeline(steps=[('preprocessor', preprocessor),\n",
    "                        ('clasificador', LGBMClassifier())])\n",
    "\n",
    "# param grid\n",
    "param_grid = {\n",
    "    'clasificador__is_unbalance': [True],\n",
    "    'clasificador__max_depth': [-1],\n",
    "    'clasificador__objective': ['binary'],\n",
    "    'clasificador__learning_rate': [0.1, 0.05],\n",
    "    'clasificador__n_estimators': [200, 300],\n",
    "    'clasificador__importance_type': ['split', 'gain'],\n",
    "    'clasificador__num_leaves': [50, 100]\n",
    "}\n",
    "\n",
    "print('Training model...')\n",
    "CV = GridSearchCV(lightgbm, param_grid, cv=3, n_jobs=6, scoring='roc_auc', verbose=1)\n",
    "CV.fit(xtrain_ctgan,ytrain_ctgan)\n",
    "print(\"done!\")\n",
    "\n",
    "# Save model\n",
    "with open('../models/lightgbm_ctgan.joblib', 'wb') as f:\n",
    "    pickle.dump(CV, f)"
   ]
  },
  {
   "cell_type": "code",
   "execution_count": 38,
   "metadata": {},
   "outputs": [
    {
     "name": "stdout",
     "output_type": "stream",
     "text": [
      "time: 29.8 ms (started: 2022-06-08 13:16:23 +02:00)\n"
     ]
    }
   ],
   "source": [
    "with open('../models/lightgbm_ctgan.joblib', 'rb') as f:\n",
    "    CV = pickle.load(f)"
   ]
  },
  {
   "cell_type": "markdown",
   "metadata": {},
   "source": [
    "### Evaluación"
   ]
  },
  {
   "cell_type": "code",
   "execution_count": 39,
   "metadata": {},
   "outputs": [
    {
     "name": "stdout",
     "output_type": "stream",
     "text": [
      "time: 544 ms (started: 2022-06-08 13:16:26 +02:00)\n"
     ]
    }
   ],
   "source": [
    "xtest = pd.read_parquet('../data/interim/xtest.parquet')\n",
    "ytest = pd.read_parquet('../data/interim/ytest.parquet')"
   ]
  },
  {
   "cell_type": "code",
   "execution_count": 40,
   "metadata": {},
   "outputs": [
    {
     "name": "stdout",
     "output_type": "stream",
     "text": [
      "ROC-AUC score of the model: 0.8126589980460387\n",
      "Accuracy of the model: 0.7373877108150116\n",
      "\n",
      "Classification report: \n",
      "              precision    recall  f1-score   support\n",
      "\n",
      "           0       0.98      0.74      0.84   6321006\n",
      "           1       0.11      0.73      0.20    288936\n",
      "\n",
      "    accuracy                           0.74   6609942\n",
      "   macro avg       0.55      0.74      0.52   6609942\n",
      "weighted avg       0.95      0.74      0.81   6609942\n",
      "\n",
      "\n",
      "Confusion matrix: \n",
      "[[4662286 1658720]\n",
      " [  77132  211804]]\n",
      "\n",
      "time: 2min 2s (started: 2022-06-08 13:16:29 +02:00)\n"
     ]
    }
   ],
   "source": [
    "# comprobamos 1 los score en el train\n",
    "ypred = CV.predict(xtrain_ctgan)\n",
    "ypred_proba = CV.predict_proba(xtrain_ctgan)\n",
    "evaluate_model(ytrain_ctgan,ypred,ypred_proba)"
   ]
  },
  {
   "cell_type": "markdown",
   "metadata": {},
   "source": [
    "### Ánalisis Modelo entrenado con datos sintéticos"
   ]
  },
  {
   "cell_type": "code",
   "execution_count": 44,
   "metadata": {},
   "outputs": [
    {
     "data": {
      "image/png": "[encoded data removed]",
      "text/plain": [
       "<Figure size 648x648 with 1 Axes>"
      ]
     },
     "metadata": {
      "needs_background": "light"
     },
     "output_type": "display_data"
    },
    {
     "data": {
      "image/png": "[encoded data removed]",
      "text/plain": [
       "<Figure size 648x648 with 1 Axes>"
      ]
     },
     "metadata": {
      "needs_background": "light"
     },
     "output_type": "display_data"
    },
    {
     "name": "stdout",
     "output_type": "stream",
     "text": [
      "ROC-AUC score of the model: 0.7867209837134279\n",
      "Accuracy of the model: 0.7124381084015236\n",
      "\n",
      "Classification report: \n",
      "              precision    recall  f1-score   support\n",
      "\n",
      "           0       0.99      0.71      0.83    813746\n",
      "           1       0.04      0.72      0.07     12497\n",
      "\n",
      "    accuracy                           0.71    826243\n",
      "   macro avg       0.52      0.71      0.45    826243\n",
      "weighted avg       0.98      0.71      0.82    826243\n",
      "\n",
      "\n",
      "Confusion matrix: \n",
      "[[579695 234051]\n",
      " [  3545   8952]]\n",
      "\n"
     ]
    },
    {
     "data": {
      "image/png": "[encoded data removed]",
      "text/plain": [
       "<Figure size 720x720 with 2 Axes>"
      ]
     },
     "metadata": {
      "needs_background": "light"
     },
     "output_type": "display_data"
    },
    {
     "data": {
      "image/png": "[encoded data removed]",
      "text/plain": [
       "<Figure size 720x720 with 2 Axes>"
      ]
     },
     "metadata": {
      "needs_background": "light"
     },
     "output_type": "display_data"
    },
    {
     "name": "stdout",
     "output_type": "stream",
     "text": [
      "time: 12.8 s (started: 2022-06-08 13:46:30 +02:00)\n"
     ]
    }
   ],
   "source": [
    "model_analysis(CV,xtest,ytest)"
   ]
  },
  {
   "cell_type": "markdown",
   "metadata": {},
   "source": [
    "### Ánalisis Modelo entrenado con datos reales"
   ]
  },
  {
   "cell_type": "code",
   "execution_count": 30,
   "metadata": {},
   "outputs": [
    {
     "name": "stdout",
     "output_type": "stream",
     "text": [
      "time: 1.47 ms (started: 2022-06-08 12:44:23 +02:00)\n"
     ]
    }
   ],
   "source": [
    "### cargar el Modelo\n",
    "model_og = pickle.load(open('../models/lightgbm.joblib', 'rb'))"
   ]
  },
  {
   "cell_type": "code",
   "execution_count": 42,
   "metadata": {},
   "outputs": [
    {
     "name": "stdout",
     "output_type": "stream",
     "text": [
      "time: 13.8 ms (started: 2022-06-08 13:46:10 +02:00)\n"
     ]
    }
   ],
   "source": [
    "with open('../models/lightgbm.joblib', 'rb') as f:\n",
    "    model_og = pickle.load(f)"
   ]
  },
  {
   "cell_type": "code",
   "execution_count": 43,
   "metadata": {},
   "outputs": [
    {
     "data": {
      "image/png": "[encoded data removed]",
      "text/plain": [
       "<Figure size 648x648 with 1 Axes>"
      ]
     },
     "metadata": {
      "needs_background": "light"
     },
     "output_type": "display_data"
    },
    {
     "data": {
      "image/png": "[encoded data removed]",
      "text/plain": [
       "<Figure size 648x648 with 1 Axes>"
      ]
     },
     "metadata": {
      "needs_background": "light"
     },
     "output_type": "display_data"
    },
    {
     "name": "stdout",
     "output_type": "stream",
     "text": [
      "ROC-AUC score of the model: 0.8510720066284385\n",
      "Accuracy of the model: 0.7710564567566685\n",
      "\n",
      "Classification report: \n",
      "              precision    recall  f1-score   support\n",
      "\n",
      "           0       1.00      0.77      0.87    813746\n",
      "           1       0.05      0.76      0.09     12497\n",
      "\n",
      "    accuracy                           0.77    826243\n",
      "   macro avg       0.52      0.77      0.48    826243\n",
      "weighted avg       0.98      0.77      0.86    826243\n",
      "\n",
      "\n",
      "Confusion matrix: \n",
      "[[627553 186193]\n",
      " [  2970   9527]]\n",
      "\n"
     ]
    },
    {
     "data": {
      "image/png": "[encoded data removed]",
      "text/plain": [
       "<Figure size 720x720 with 2 Axes>"
      ]
     },
     "metadata": {
      "needs_background": "light"
     },
     "output_type": "display_data"
    },
    {
     "data": {
      "image/png": "[encoded data removed]",
      "text/plain": [
       "<Figure size 720x720 with 2 Axes>"
      ]
     },
     "metadata": {
      "needs_background": "light"
     },
     "output_type": "display_data"
    },
    {
     "name": "stdout",
     "output_type": "stream",
     "text": [
      "time: 11.3 s (started: 2022-06-08 13:46:12 +02:00)\n"
     ]
    }
   ],
   "source": [
    "model_analysis(model_og,xtest,ytest)"
   ]
  }
 ],
 "metadata": {
  "interpreter": {
   "hash": "0b2dde700c5006e571fc61bac43f21beefaded0019804e3e2fd3e4bc21fa880d"
  },
  "kernelspec": {
   "display_name": "Python 3.8.12 ('tganto1')",
   "language": "python",
   "name": "python3"
  },
  "language_info": {
   "codemirror_mode": {
    "name": "ipython",
    "version": 3
   },
   "file_extension": ".py",
   "mimetype": "text/x-python",
   "name": "python",
   "nbconvert_exporter": "python",
   "pygments_lexer": "ipython3",
   "version": "3.8.12"
  }
 },
 "nbformat": 4,
 "nbformat_minor": 2
}
